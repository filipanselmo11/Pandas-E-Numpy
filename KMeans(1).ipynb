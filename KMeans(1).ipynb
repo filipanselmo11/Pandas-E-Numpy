{
 "cells": [
  {
   "cell_type": "code",
   "execution_count": 15,
   "metadata": {
    "colab": {
     "base_uri": "https://localhost:8080/",
     "height": 34
    },
    "colab_type": "code",
    "id": "hJ0m58fgAHMr",
    "outputId": "e51dea0a-34ae-4c44-d38b-05fc0ce90920"
   },
   "outputs": [
    {
     "name": "stdout",
     "output_type": "stream",
     "text": [
      "Drive already mounted at /content/drive/; to attempt to forcibly remount, call drive.mount(\"/content/drive/\", force_remount=True).\n"
     ]
    }
   ],
   "source": [
    "from google.colab import drive\n",
    "drive.mount('/content/drive/')"
   ]
  },
  {
   "cell_type": "code",
   "execution_count": 25,
   "metadata": {
    "colab": {
     "base_uri": "https://localhost:8080/",
     "height": 359
    },
    "colab_type": "code",
    "id": "mYaiH2fkAT4U",
    "outputId": "f722b1f0-c98b-4991-f1c9-13e9565fdcba"
   },
   "outputs": [
    {
     "data": {
      "text/html": [
       "<div>\n",
       "<style scoped>\n",
       "    .dataframe tbody tr th:only-of-type {\n",
       "        vertical-align: middle;\n",
       "    }\n",
       "\n",
       "    .dataframe tbody tr th {\n",
       "        vertical-align: top;\n",
       "    }\n",
       "\n",
       "    .dataframe thead th {\n",
       "        text-align: right;\n",
       "    }\n",
       "</style>\n",
       "<table border=\"1\" class=\"dataframe\">\n",
       "  <thead>\n",
       "    <tr style=\"text-align: right;\">\n",
       "      <th></th>\n",
       "      <th>id</th>\n",
       "      <th>Age</th>\n",
       "      <th>BMI</th>\n",
       "      <th>Glucose</th>\n",
       "      <th>Insulin</th>\n",
       "      <th>HOMA</th>\n",
       "      <th>Leptin</th>\n",
       "      <th>Adiponectin</th>\n",
       "      <th>Resistin</th>\n",
       "      <th>MCP.1</th>\n",
       "      <th>Classification</th>\n",
       "    </tr>\n",
       "  </thead>\n",
       "  <tbody>\n",
       "    <tr>\n",
       "      <th>0</th>\n",
       "      <td>114</td>\n",
       "      <td>47</td>\n",
       "      <td>22.0300</td>\n",
       "      <td>84</td>\n",
       "      <td>2.869</td>\n",
       "      <td>0.5900</td>\n",
       "      <td>26.6500</td>\n",
       "      <td>38.0400</td>\n",
       "      <td>3.3200</td>\n",
       "      <td>191.720</td>\n",
       "      <td>1</td>\n",
       "    </tr>\n",
       "    <tr>\n",
       "      <th>1</th>\n",
       "      <td>104</td>\n",
       "      <td>75</td>\n",
       "      <td>30.4800</td>\n",
       "      <td>152</td>\n",
       "      <td>7.010</td>\n",
       "      <td>2.6283</td>\n",
       "      <td>50.5300</td>\n",
       "      <td>10.0600</td>\n",
       "      <td>11.7300</td>\n",
       "      <td>99.450</td>\n",
       "      <td>2</td>\n",
       "    </tr>\n",
       "    <tr>\n",
       "      <th>2</th>\n",
       "      <td>90</td>\n",
       "      <td>25</td>\n",
       "      <td>22.8600</td>\n",
       "      <td>82</td>\n",
       "      <td>4.090</td>\n",
       "      <td>0.8273</td>\n",
       "      <td>20.4500</td>\n",
       "      <td>23.6700</td>\n",
       "      <td>5.1400</td>\n",
       "      <td>313.730</td>\n",
       "      <td>1</td>\n",
       "    </tr>\n",
       "    <tr>\n",
       "      <th>3</th>\n",
       "      <td>8</td>\n",
       "      <td>54</td>\n",
       "      <td>24.2188</td>\n",
       "      <td>86</td>\n",
       "      <td>3.730</td>\n",
       "      <td>0.7913</td>\n",
       "      <td>8.6874</td>\n",
       "      <td>3.7052</td>\n",
       "      <td>10.3446</td>\n",
       "      <td>635.049</td>\n",
       "      <td>2</td>\n",
       "    </tr>\n",
       "    <tr>\n",
       "      <th>4</th>\n",
       "      <td>9</td>\n",
       "      <td>69</td>\n",
       "      <td>35.0927</td>\n",
       "      <td>101</td>\n",
       "      <td>5.646</td>\n",
       "      <td>1.4066</td>\n",
       "      <td>83.4821</td>\n",
       "      <td>6.7970</td>\n",
       "      <td>82.1000</td>\n",
       "      <td>263.499</td>\n",
       "      <td>1</td>\n",
       "    </tr>\n",
       "    <tr>\n",
       "      <th>5</th>\n",
       "      <td>20</td>\n",
       "      <td>44</td>\n",
       "      <td>20.7600</td>\n",
       "      <td>86</td>\n",
       "      <td>7.553</td>\n",
       "      <td>1.6000</td>\n",
       "      <td>14.0900</td>\n",
       "      <td>20.3200</td>\n",
       "      <td>7.6400</td>\n",
       "      <td>63.610</td>\n",
       "      <td>1</td>\n",
       "    </tr>\n",
       "    <tr>\n",
       "      <th>6</th>\n",
       "      <td>47</td>\n",
       "      <td>41</td>\n",
       "      <td>26.6728</td>\n",
       "      <td>97</td>\n",
       "      <td>22.033</td>\n",
       "      <td>5.2718</td>\n",
       "      <td>44.7059</td>\n",
       "      <td>13.4949</td>\n",
       "      <td>27.8325</td>\n",
       "      <td>783.796</td>\n",
       "      <td>2</td>\n",
       "    </tr>\n",
       "    <tr>\n",
       "      <th>7</th>\n",
       "      <td>2</td>\n",
       "      <td>45</td>\n",
       "      <td>29.3848</td>\n",
       "      <td>90</td>\n",
       "      <td>4.713</td>\n",
       "      <td>1.0463</td>\n",
       "      <td>23.8479</td>\n",
       "      <td>6.6442</td>\n",
       "      <td>15.5562</td>\n",
       "      <td>621.273</td>\n",
       "      <td>2</td>\n",
       "    </tr>\n",
       "    <tr>\n",
       "      <th>8</th>\n",
       "      <td>45</td>\n",
       "      <td>46</td>\n",
       "      <td>33.1800</td>\n",
       "      <td>92</td>\n",
       "      <td>5.750</td>\n",
       "      <td>1.3049</td>\n",
       "      <td>18.6900</td>\n",
       "      <td>9.1600</td>\n",
       "      <td>8.8900</td>\n",
       "      <td>209.190</td>\n",
       "      <td>2</td>\n",
       "    </tr>\n",
       "    <tr>\n",
       "      <th>9</th>\n",
       "      <td>72</td>\n",
       "      <td>66</td>\n",
       "      <td>27.7000</td>\n",
       "      <td>90</td>\n",
       "      <td>6.042</td>\n",
       "      <td>1.3413</td>\n",
       "      <td>24.8460</td>\n",
       "      <td>7.6521</td>\n",
       "      <td>6.7052</td>\n",
       "      <td>225.880</td>\n",
       "      <td>1</td>\n",
       "    </tr>\n",
       "  </tbody>\n",
       "</table>\n",
       "</div>"
      ],
      "text/plain": [
       "    id  Age      BMI  Glucose  Insulin    HOMA   Leptin  Adiponectin  \\\n",
       "0  114   47  22.0300       84    2.869  0.5900  26.6500      38.0400   \n",
       "1  104   75  30.4800      152    7.010  2.6283  50.5300      10.0600   \n",
       "2   90   25  22.8600       82    4.090  0.8273  20.4500      23.6700   \n",
       "3    8   54  24.2188       86    3.730  0.7913   8.6874       3.7052   \n",
       "4    9   69  35.0927      101    5.646  1.4066  83.4821       6.7970   \n",
       "5   20   44  20.7600       86    7.553  1.6000  14.0900      20.3200   \n",
       "6   47   41  26.6728       97   22.033  5.2718  44.7059      13.4949   \n",
       "7    2   45  29.3848       90    4.713  1.0463  23.8479       6.6442   \n",
       "8   45   46  33.1800       92    5.750  1.3049  18.6900       9.1600   \n",
       "9   72   66  27.7000       90    6.042  1.3413  24.8460       7.6521   \n",
       "\n",
       "   Resistin    MCP.1  Classification  \n",
       "0    3.3200  191.720               1  \n",
       "1   11.7300   99.450               2  \n",
       "2    5.1400  313.730               1  \n",
       "3   10.3446  635.049               2  \n",
       "4   82.1000  263.499               1  \n",
       "5    7.6400   63.610               1  \n",
       "6   27.8325  783.796               2  \n",
       "7   15.5562  621.273               2  \n",
       "8    8.8900  209.190               2  \n",
       "9    6.7052  225.880               1  "
      ]
     },
     "execution_count": 25,
     "metadata": {
      "tags": []
     },
     "output_type": "execute_result"
    }
   ],
   "source": [
    "import pandas as pd\n",
    "from sklearn.cluster import KMeans\n",
    "from sklearn.model_selection import train_test_split\n",
    "from sklearn.metrics import confusion_matrix,accuracy_score,precision_score,recall_score,f1_score\n",
    "\n",
    "data = pd.read_csv(\"/content/drive/My Drive/app/train.csv\") \n",
    "data.head(10)"
   ]
  },
  {
   "cell_type": "code",
   "execution_count": 18,
   "metadata": {
    "colab": {
     "base_uri": "https://localhost:8080/",
     "height": 204
    },
    "colab_type": "code",
    "id": "r2LhsuS4BSJw",
    "outputId": "d6d55a00-aafa-4e57-a045-ea5ac31b4532"
   },
   "outputs": [
    {
     "data": {
      "text/html": [
       "<div>\n",
       "<style scoped>\n",
       "    .dataframe tbody tr th:only-of-type {\n",
       "        vertical-align: middle;\n",
       "    }\n",
       "\n",
       "    .dataframe tbody tr th {\n",
       "        vertical-align: top;\n",
       "    }\n",
       "\n",
       "    .dataframe thead th {\n",
       "        text-align: right;\n",
       "    }\n",
       "</style>\n",
       "<table border=\"1\" class=\"dataframe\">\n",
       "  <thead>\n",
       "    <tr style=\"text-align: right;\">\n",
       "      <th></th>\n",
       "      <th>Age</th>\n",
       "      <th>BMI</th>\n",
       "      <th>Glucose</th>\n",
       "      <th>Insulin</th>\n",
       "      <th>HOMA</th>\n",
       "      <th>Leptin</th>\n",
       "      <th>Adiponectin</th>\n",
       "      <th>Resistin</th>\n",
       "      <th>MCP.1</th>\n",
       "    </tr>\n",
       "  </thead>\n",
       "  <tbody>\n",
       "    <tr>\n",
       "      <th>0</th>\n",
       "      <td>47</td>\n",
       "      <td>22.0300</td>\n",
       "      <td>84</td>\n",
       "      <td>2.869</td>\n",
       "      <td>0.5900</td>\n",
       "      <td>26.6500</td>\n",
       "      <td>38.0400</td>\n",
       "      <td>3.3200</td>\n",
       "      <td>191.720</td>\n",
       "    </tr>\n",
       "    <tr>\n",
       "      <th>1</th>\n",
       "      <td>75</td>\n",
       "      <td>30.4800</td>\n",
       "      <td>152</td>\n",
       "      <td>7.010</td>\n",
       "      <td>2.6283</td>\n",
       "      <td>50.5300</td>\n",
       "      <td>10.0600</td>\n",
       "      <td>11.7300</td>\n",
       "      <td>99.450</td>\n",
       "    </tr>\n",
       "    <tr>\n",
       "      <th>2</th>\n",
       "      <td>25</td>\n",
       "      <td>22.8600</td>\n",
       "      <td>82</td>\n",
       "      <td>4.090</td>\n",
       "      <td>0.8273</td>\n",
       "      <td>20.4500</td>\n",
       "      <td>23.6700</td>\n",
       "      <td>5.1400</td>\n",
       "      <td>313.730</td>\n",
       "    </tr>\n",
       "    <tr>\n",
       "      <th>3</th>\n",
       "      <td>54</td>\n",
       "      <td>24.2188</td>\n",
       "      <td>86</td>\n",
       "      <td>3.730</td>\n",
       "      <td>0.7913</td>\n",
       "      <td>8.6874</td>\n",
       "      <td>3.7052</td>\n",
       "      <td>10.3446</td>\n",
       "      <td>635.049</td>\n",
       "    </tr>\n",
       "    <tr>\n",
       "      <th>4</th>\n",
       "      <td>69</td>\n",
       "      <td>35.0927</td>\n",
       "      <td>101</td>\n",
       "      <td>5.646</td>\n",
       "      <td>1.4066</td>\n",
       "      <td>83.4821</td>\n",
       "      <td>6.7970</td>\n",
       "      <td>82.1000</td>\n",
       "      <td>263.499</td>\n",
       "    </tr>\n",
       "  </tbody>\n",
       "</table>\n",
       "</div>"
      ],
      "text/plain": [
       "   Age      BMI  Glucose  Insulin    HOMA   Leptin  Adiponectin  Resistin  \\\n",
       "0   47  22.0300       84    2.869  0.5900  26.6500      38.0400    3.3200   \n",
       "1   75  30.4800      152    7.010  2.6283  50.5300      10.0600   11.7300   \n",
       "2   25  22.8600       82    4.090  0.8273  20.4500      23.6700    5.1400   \n",
       "3   54  24.2188       86    3.730  0.7913   8.6874       3.7052   10.3446   \n",
       "4   69  35.0927      101    5.646  1.4066  83.4821       6.7970   82.1000   \n",
       "\n",
       "     MCP.1  \n",
       "0  191.720  \n",
       "1   99.450  \n",
       "2  313.730  \n",
       "3  635.049  \n",
       "4  263.499  "
      ]
     },
     "execution_count": 18,
     "metadata": {
      "tags": []
     },
     "output_type": "execute_result"
    }
   ],
   "source": [
    "y = data['Classification']\n",
    "x = data.drop('Classification',axis=1)\n",
    "x = x.drop('id',axis=1)\n",
    "\n",
    "x.head()"
   ]
  },
  {
   "cell_type": "code",
   "execution_count": 0,
   "metadata": {
    "colab": {},
    "colab_type": "code",
    "id": "U22WMFOwBf3o"
   },
   "outputs": [],
   "source": [
    "x_train,x_test,y_train,y_test = train_test_split(x,y,test_size=0.1,random_state=42)"
   ]
  },
  {
   "cell_type": "code",
   "execution_count": 29,
   "metadata": {
    "colab": {
     "base_uri": "https://localhost:8080/",
     "height": 139
    },
    "colab_type": "code",
    "id": "zQwIFA0NBuXC",
    "outputId": "26d132f0-6563-47dd-f110-d8e93b86193e"
   },
   "outputs": [
    {
     "name": "stderr",
     "output_type": "stream",
     "text": [
      "/usr/local/lib/python3.6/dist-packages/sklearn/metrics/classification.py:1135: UndefinedMetricWarning: F-score is ill-defined and being set to 0.0 in labels with no predicted samples.\n",
      "  'precision', 'predicted', average, warn_for)\n",
      "/usr/local/lib/python3.6/dist-packages/sklearn/metrics/classification.py:1137: UndefinedMetricWarning: F-score is ill-defined and being set to 0.0 in labels with no true samples.\n",
      "  'recall', 'true', average, warn_for)\n",
      "/usr/local/lib/python3.6/dist-packages/sklearn/metrics/classification.py:1135: UndefinedMetricWarning: Precision is ill-defined and being set to 0.0 in labels with no predicted samples.\n",
      "  'precision', 'predicted', average, warn_for)\n"
     ]
    }
   ],
   "source": [
    "kmeans = KMeans(n_clusters = 2, init = 'random')\n",
    "kmeans.fit(x_train,y_train)\n",
    "ac = accuracy_score(y_test,kmeans.predict(x_test))\n",
    "f = f1_score(y_test,kmeans.predict(x_test),average='macro')\n",
    "pr = precision_score(y_test,kmeans.predict(x_test),average='macro')"
   ]
  },
  {
   "cell_type": "code",
   "execution_count": 30,
   "metadata": {
    "colab": {
     "base_uri": "https://localhost:8080/",
     "height": 68
    },
    "colab_type": "code",
    "id": "ZltggbiWCcDJ",
    "outputId": "a8fbb6e4-0c98-45f5-9e47-4ec374432f3d"
   },
   "outputs": [
    {
     "name": "stdout",
     "output_type": "stream",
     "text": [
      "Acurácia é:  0.5\n",
      "F1-Score é:  0.27777777777777773\n",
      "Precisão é:  0.2380952380952381\n"
     ]
    }
   ],
   "source": [
    "print('Acurácia é: ' ,ac)\n",
    "print('F1-Score é: ',f)\n",
    "print('Precisão é: ',pr)"
   ]
  },
  {
   "cell_type": "code",
   "execution_count": 34,
   "metadata": {
    "colab": {
     "base_uri": "https://localhost:8080/",
     "height": 204
    },
    "colab_type": "code",
    "id": "IdCNfWhdCjAu",
    "outputId": "f0ed7e54-742d-445e-b086-7936e03a67d0"
   },
   "outputs": [
    {
     "data": {
      "text/html": [
       "<div>\n",
       "<style scoped>\n",
       "    .dataframe tbody tr th:only-of-type {\n",
       "        vertical-align: middle;\n",
       "    }\n",
       "\n",
       "    .dataframe tbody tr th {\n",
       "        vertical-align: top;\n",
       "    }\n",
       "\n",
       "    .dataframe thead th {\n",
       "        text-align: right;\n",
       "    }\n",
       "</style>\n",
       "<table border=\"1\" class=\"dataframe\">\n",
       "  <thead>\n",
       "    <tr style=\"text-align: right;\">\n",
       "      <th></th>\n",
       "      <th>id</th>\n",
       "      <th>Age</th>\n",
       "      <th>BMI</th>\n",
       "      <th>Glucose</th>\n",
       "      <th>Insulin</th>\n",
       "      <th>HOMA</th>\n",
       "      <th>Leptin</th>\n",
       "      <th>Adiponectin</th>\n",
       "      <th>Resistin</th>\n",
       "      <th>MCP.1</th>\n",
       "    </tr>\n",
       "  </thead>\n",
       "  <tbody>\n",
       "    <tr>\n",
       "      <th>0</th>\n",
       "      <td>100</td>\n",
       "      <td>62</td>\n",
       "      <td>22.6562</td>\n",
       "      <td>92</td>\n",
       "      <td>3.482</td>\n",
       "      <td>0.7902</td>\n",
       "      <td>9.8648</td>\n",
       "      <td>11.2362</td>\n",
       "      <td>10.6955</td>\n",
       "      <td>703.973</td>\n",
       "    </tr>\n",
       "    <tr>\n",
       "      <th>1</th>\n",
       "      <td>78</td>\n",
       "      <td>29</td>\n",
       "      <td>23.0100</td>\n",
       "      <td>82</td>\n",
       "      <td>5.663</td>\n",
       "      <td>1.1454</td>\n",
       "      <td>35.5900</td>\n",
       "      <td>26.7200</td>\n",
       "      <td>4.5800</td>\n",
       "      <td>174.800</td>\n",
       "    </tr>\n",
       "    <tr>\n",
       "      <th>2</th>\n",
       "      <td>77</td>\n",
       "      <td>75</td>\n",
       "      <td>25.7000</td>\n",
       "      <td>94</td>\n",
       "      <td>8.079</td>\n",
       "      <td>1.8733</td>\n",
       "      <td>65.9260</td>\n",
       "      <td>3.7412</td>\n",
       "      <td>4.4968</td>\n",
       "      <td>206.802</td>\n",
       "    </tr>\n",
       "    <tr>\n",
       "      <th>3</th>\n",
       "      <td>113</td>\n",
       "      <td>44</td>\n",
       "      <td>27.8876</td>\n",
       "      <td>99</td>\n",
       "      <td>9.208</td>\n",
       "      <td>2.2486</td>\n",
       "      <td>12.6757</td>\n",
       "      <td>5.4782</td>\n",
       "      <td>23.0331</td>\n",
       "      <td>407.206</td>\n",
       "    </tr>\n",
       "    <tr>\n",
       "      <th>4</th>\n",
       "      <td>86</td>\n",
       "      <td>75</td>\n",
       "      <td>23.0000</td>\n",
       "      <td>83</td>\n",
       "      <td>4.952</td>\n",
       "      <td>1.0138</td>\n",
       "      <td>17.1270</td>\n",
       "      <td>11.5790</td>\n",
       "      <td>7.0913</td>\n",
       "      <td>318.302</td>\n",
       "    </tr>\n",
       "  </tbody>\n",
       "</table>\n",
       "</div>"
      ],
      "text/plain": [
       "    id  Age      BMI  Glucose  Insulin    HOMA   Leptin  Adiponectin  \\\n",
       "0  100   62  22.6562       92    3.482  0.7902   9.8648      11.2362   \n",
       "1   78   29  23.0100       82    5.663  1.1454  35.5900      26.7200   \n",
       "2   77   75  25.7000       94    8.079  1.8733  65.9260       3.7412   \n",
       "3  113   44  27.8876       99    9.208  2.2486  12.6757       5.4782   \n",
       "4   86   75  23.0000       83    4.952  1.0138  17.1270      11.5790   \n",
       "\n",
       "   Resistin    MCP.1  \n",
       "0   10.6955  703.973  \n",
       "1    4.5800  174.800  \n",
       "2    4.4968  206.802  \n",
       "3   23.0331  407.206  \n",
       "4    7.0913  318.302  "
      ]
     },
     "execution_count": 34,
     "metadata": {
      "tags": []
     },
     "output_type": "execute_result"
    }
   ],
   "source": [
    "data_test = pd.read_csv(\"/content/drive/My Drive/app/test.csv\")\n",
    "data_test.head()"
   ]
  },
  {
   "cell_type": "code",
   "execution_count": 35,
   "metadata": {
    "colab": {
     "base_uri": "https://localhost:8080/",
     "height": 204
    },
    "colab_type": "code",
    "id": "0tYVRLJtCoY8",
    "outputId": "977d175c-4bab-4676-8a23-42f849203825"
   },
   "outputs": [
    {
     "data": {
      "text/html": [
       "<div>\n",
       "<style scoped>\n",
       "    .dataframe tbody tr th:only-of-type {\n",
       "        vertical-align: middle;\n",
       "    }\n",
       "\n",
       "    .dataframe tbody tr th {\n",
       "        vertical-align: top;\n",
       "    }\n",
       "\n",
       "    .dataframe thead th {\n",
       "        text-align: right;\n",
       "    }\n",
       "</style>\n",
       "<table border=\"1\" class=\"dataframe\">\n",
       "  <thead>\n",
       "    <tr style=\"text-align: right;\">\n",
       "      <th></th>\n",
       "      <th>Age</th>\n",
       "      <th>BMI</th>\n",
       "      <th>Glucose</th>\n",
       "      <th>Insulin</th>\n",
       "      <th>HOMA</th>\n",
       "      <th>Leptin</th>\n",
       "      <th>Adiponectin</th>\n",
       "      <th>Resistin</th>\n",
       "      <th>MCP.1</th>\n",
       "    </tr>\n",
       "  </thead>\n",
       "  <tbody>\n",
       "    <tr>\n",
       "      <th>0</th>\n",
       "      <td>62</td>\n",
       "      <td>22.6562</td>\n",
       "      <td>92</td>\n",
       "      <td>3.482</td>\n",
       "      <td>0.7902</td>\n",
       "      <td>9.8648</td>\n",
       "      <td>11.2362</td>\n",
       "      <td>10.6955</td>\n",
       "      <td>703.973</td>\n",
       "    </tr>\n",
       "    <tr>\n",
       "      <th>1</th>\n",
       "      <td>29</td>\n",
       "      <td>23.0100</td>\n",
       "      <td>82</td>\n",
       "      <td>5.663</td>\n",
       "      <td>1.1454</td>\n",
       "      <td>35.5900</td>\n",
       "      <td>26.7200</td>\n",
       "      <td>4.5800</td>\n",
       "      <td>174.800</td>\n",
       "    </tr>\n",
       "    <tr>\n",
       "      <th>2</th>\n",
       "      <td>75</td>\n",
       "      <td>25.7000</td>\n",
       "      <td>94</td>\n",
       "      <td>8.079</td>\n",
       "      <td>1.8733</td>\n",
       "      <td>65.9260</td>\n",
       "      <td>3.7412</td>\n",
       "      <td>4.4968</td>\n",
       "      <td>206.802</td>\n",
       "    </tr>\n",
       "    <tr>\n",
       "      <th>3</th>\n",
       "      <td>44</td>\n",
       "      <td>27.8876</td>\n",
       "      <td>99</td>\n",
       "      <td>9.208</td>\n",
       "      <td>2.2486</td>\n",
       "      <td>12.6757</td>\n",
       "      <td>5.4782</td>\n",
       "      <td>23.0331</td>\n",
       "      <td>407.206</td>\n",
       "    </tr>\n",
       "    <tr>\n",
       "      <th>4</th>\n",
       "      <td>75</td>\n",
       "      <td>23.0000</td>\n",
       "      <td>83</td>\n",
       "      <td>4.952</td>\n",
       "      <td>1.0138</td>\n",
       "      <td>17.1270</td>\n",
       "      <td>11.5790</td>\n",
       "      <td>7.0913</td>\n",
       "      <td>318.302</td>\n",
       "    </tr>\n",
       "  </tbody>\n",
       "</table>\n",
       "</div>"
      ],
      "text/plain": [
       "   Age      BMI  Glucose  Insulin    HOMA   Leptin  Adiponectin  Resistin  \\\n",
       "0   62  22.6562       92    3.482  0.7902   9.8648      11.2362   10.6955   \n",
       "1   29  23.0100       82    5.663  1.1454  35.5900      26.7200    4.5800   \n",
       "2   75  25.7000       94    8.079  1.8733  65.9260       3.7412    4.4968   \n",
       "3   44  27.8876       99    9.208  2.2486  12.6757       5.4782   23.0331   \n",
       "4   75  23.0000       83    4.952  1.0138  17.1270      11.5790    7.0913   \n",
       "\n",
       "     MCP.1  \n",
       "0  703.973  \n",
       "1  174.800  \n",
       "2  206.802  \n",
       "3  407.206  \n",
       "4  318.302  "
      ]
     },
     "execution_count": 35,
     "metadata": {
      "tags": []
     },
     "output_type": "execute_result"
    }
   ],
   "source": [
    "data_test = data_test.drop('id',axis=1)\n",
    "data_test.head()"
   ]
  },
  {
   "cell_type": "code",
   "execution_count": 36,
   "metadata": {
    "colab": {
     "base_uri": "https://localhost:8080/",
     "height": 51
    },
    "colab_type": "code",
    "id": "sET3VROlC32I",
    "outputId": "497b664c-ac64-4f43-aec8-d825b1fc90a1"
   },
   "outputs": [
    {
     "data": {
      "text/plain": [
       "array([0, 1, 1, 1, 1, 0, 1, 1, 0, 0, 1, 0, 1, 0, 1, 0, 1, 1, 1, 0, 1, 1,\n",
       "       1, 1], dtype=int32)"
      ]
     },
     "execution_count": 36,
     "metadata": {
      "tags": []
     },
     "output_type": "execute_result"
    }
   ],
   "source": [
    "kmeans.predict(data_test)"
   ]
  },
  {
   "cell_type": "code",
   "execution_count": 44,
   "metadata": {
    "colab": {
     "base_uri": "https://localhost:8080/",
     "height": 51
    },
    "colab_type": "code",
    "id": "5A7jPFPjDDQr",
    "outputId": "19d7957f-21e9-43b5-d604-63f6ed451294"
   },
   "outputs": [
    {
     "data": {
      "text/plain": [
       "array([0, 1, 1, 1, 1, 0, 1, 1, 0, 0, 1, 0, 1, 0, 1, 0, 1, 1, 1, 0, 1, 1,\n",
       "       1, 1], dtype=int32)"
      ]
     },
     "execution_count": 44,
     "metadata": {
      "tags": []
     },
     "output_type": "execute_result"
    }
   ],
   "source": [
    "out = kmeans.predict(data_test)"
   ]
  },
  {
   "cell_type": "code",
   "execution_count": 0,
   "metadata": {
    "colab": {},
    "colab_type": "code",
    "id": "y5RVbQ2wDIYI"
   },
   "outputs": [],
   "source": [
    "out = pd.DataFrame(out,columns=['Classification'])"
   ]
  },
  {
   "cell_type": "code",
   "execution_count": 0,
   "metadata": {
    "colab": {},
    "colab_type": "code",
    "id": "VqXgNBOzEC9L"
   },
   "outputs": [],
   "source": [
    "out.to_csv('saida.csv',index=False)"
   ]
  }
 ],
 "metadata": {
  "colab": {
   "name": "KMeans.ipynb",
   "provenance": [],
   "version": "0.3.2"
  },
  "kernelspec": {
   "display_name": "Python 3",
   "language": "python",
   "name": "python3"
  },
  "language_info": {
   "codemirror_mode": {
    "name": "ipython",
    "version": 3
   },
   "file_extension": ".py",
   "mimetype": "text/x-python",
   "name": "python",
   "nbconvert_exporter": "python",
   "pygments_lexer": "ipython3",
   "version": "3.6.5"
  }
 },
 "nbformat": 4,
 "nbformat_minor": 1
}
