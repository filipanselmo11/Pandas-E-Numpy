{
 "cells": [
  {
   "cell_type": "code",
   "execution_count": 2,
   "metadata": {},
   "outputs": [],
   "source": [
    "import time\n",
    "import datetime"
   ]
  },
  {
   "cell_type": "code",
   "execution_count": 3,
   "metadata": {},
   "outputs": [
    {
     "data": {
      "text/plain": [
       "1555167901.6151805"
      ]
     },
     "execution_count": 3,
     "metadata": {},
     "output_type": "execute_result"
    }
   ],
   "source": [
    "time.time()"
   ]
  },
  {
   "cell_type": "markdown",
   "metadata": {},
   "source": [
    "## Cálculo de 100.000"
   ]
  },
  {
   "cell_type": "code",
   "execution_count": 4,
   "metadata": {},
   "outputs": [],
   "source": [
    "def calcProd():\n",
    "    product=1\n",
    "    for i in range(1,100000):\n",
    "        product = product * i\n",
    "    return product"
   ]
  },
  {
   "cell_type": "code",
   "execution_count": 7,
   "metadata": {},
   "outputs": [],
   "source": [
    "startTime =  time.time()\n",
    "prod = calcProd()\n",
    "endTime = time.time()"
   ]
  },
  {
   "cell_type": "code",
   "execution_count": 8,
   "metadata": {},
   "outputs": [
    {
     "name": "stdout",
     "output_type": "stream",
     "text": [
      "Qtde digito do resultado 456569\n",
      "Foram necessários 3.4846396446228027 segundos para o calculo ser realizado\n"
     ]
    }
   ],
   "source": [
    "print('Qtde digito do resultado {}'.format(len(str(prod))))\n",
    "print('Foram necessários {} segundos para o calculo ser realizado'.format(endTime-startTime))"
   ]
  },
  {
   "cell_type": "code",
   "execution_count": 10,
   "metadata": {},
   "outputs": [
    {
     "name": "stdout",
     "output_type": "stream",
     "text": [
      "Tick\n",
      "Tack\n",
      "Tick\n",
      "Tack\n",
      "Tick\n",
      "Tack\n"
     ]
    }
   ],
   "source": [
    "for i in range(3):\n",
    "        print('Tick')\n",
    "        time.sleep(5)\n",
    "        print('Tack')\n",
    "        time.sleep(5)"
   ]
  },
  {
   "cell_type": "code",
   "execution_count": 11,
   "metadata": {},
   "outputs": [
    {
     "data": {
      "text/plain": [
       "1555168848.673548"
      ]
     },
     "execution_count": 11,
     "metadata": {},
     "output_type": "execute_result"
    }
   ],
   "source": [
    "now = time.time()\n",
    "now"
   ]
  },
  {
   "cell_type": "code",
   "execution_count": 12,
   "metadata": {},
   "outputs": [
    {
     "data": {
      "text/plain": [
       "1555168848.67"
      ]
     },
     "execution_count": 12,
     "metadata": {},
     "output_type": "execute_result"
    }
   ],
   "source": [
    "round(now, 2)"
   ]
  },
  {
   "cell_type": "code",
   "execution_count": 13,
   "metadata": {},
   "outputs": [
    {
     "data": {
      "text/plain": [
       "1555168848.7"
      ]
     },
     "execution_count": 13,
     "metadata": {},
     "output_type": "execute_result"
    }
   ],
   "source": [
    "round(now, 1)"
   ]
  },
  {
   "cell_type": "code",
   "execution_count": 14,
   "metadata": {},
   "outputs": [
    {
     "name": "stdout",
     "output_type": "stream",
     "text": [
      "1\n",
      "Inicio do cronometro\n",
      "2\n",
      "Rodada#1\n",
      "3\n",
      "Rodada#2\n",
      "4\n",
      "Rodada#3\n",
      "5\n",
      "Rodada#4\n",
      "1\n",
      "Rodada#5\n",
      "2\n",
      "Rodada#6\n",
      "3\n",
      "Rodada#7\n",
      "4\n",
      "Rodada#8\n",
      "5\n",
      "Rodada#9\n",
      "6\n",
      "Rodada#10\n",
      "7\n",
      "Rodada#11\n",
      "8\n",
      "Rodada#12\n",
      "9\n",
      "Rodada#13\n",
      "10\n",
      "Rodada#14\n",
      "11\n",
      "Rodada#15\n",
      "12\n",
      "Rodada#16\n",
      "13\n",
      "Rodada#17\n",
      "14\n",
      "Rodada#18\n",
      "15\n",
      "Rodada#19\n",
      "16\n",
      "Rodada#20\n",
      "17\n",
      "Rodada#21\n",
      "18\n",
      "Rodada#22\n",
      "19\n",
      "Rodada#23\n",
      "20\n",
      "Rodada#24\n",
      "21\n",
      "Rodada#25\n",
      "22\n",
      "Rodada#26\n",
      "23\n",
      "Rodada#27\n",
      "24\n",
      "Rodada#28\n",
      "25\n",
      "Rodada#29\n",
      "26\n",
      "Rodada#30\n",
      "fim\n",
      "Rodada#31\n",
      "FIM\n",
      "Rodada#32\n",
      "\n",
      "Rodada#33\n",
      "\n",
      "Rodada#34\n",
      "\n",
      "Rodada#35\n",
      "\n",
      "Rodada#36\n",
      "\n",
      "Rodada#37\n",
      "\n",
      "Rodada#38\n",
      "\n",
      "Rodada#39\n",
      "\n",
      "Rodada#40\n",
      "\n",
      "Rodada#41\n",
      "\n",
      "Rodada#42\n",
      "\n",
      "Rodada#43\n",
      "\n",
      "Rodada#44\n",
      "\n",
      "Rodada#45\n",
      "\n",
      "Rodada#46\n",
      "\n",
      "Rodada#47\n",
      "\n",
      "Rodada#48\n",
      "\n",
      "Rodada#49\n",
      "\n",
      "Rodada#50\n",
      "\n",
      "Rodada#51\n",
      "\n",
      "Rodada#52\n",
      "\n",
      "Rodada#53\n",
      "\n",
      "Rodada#54\n",
      "\n",
      "Rodada#55\n",
      "\n",
      "Rodada#56\n",
      "\n",
      "Rodada#57\n",
      "\n",
      "Rodada#58\n",
      "\n",
      "Rodada#59\n",
      "\n",
      "Rodada#60\n",
      "\n",
      "Rodada#61\n",
      "\n",
      "Rodada#62\n",
      "\n",
      "Rodada#63\n",
      "\n",
      "Rodada#64\n",
      "\n",
      "Rodada#65\n",
      "\n",
      "Rodada#66\n",
      "\n",
      "Rodada#67\n",
      "\n",
      "Rodada#68\n",
      "\n",
      "Rodada#69\n",
      "\n",
      "Rodada#70\n",
      "\n",
      "Rodada#71\n",
      "\n",
      "Rodada#72\n",
      "\n",
      "Rodada#73\n",
      "\n",
      "Rodada#74\n",
      "\n",
      "Rodada#75\n",
      "\n",
      "Rodada#76\n",
      "\n",
      "Rodada#77\n",
      "\n",
      "Rodada#78\n",
      "\n",
      "Rodada#79\n",
      "\n",
      "Fim\n"
     ]
    }
   ],
   "source": [
    "input()\n",
    "print('Inicio do cronometro')\n",
    "startTime = time.time()\n",
    "lastTime = startTime\n",
    "\n",
    "lapNum=1\n",
    "try:\n",
    "    while(True):\n",
    "        input()\n",
    "        lapTime = round(time.time()-lastTime,2)\n",
    "        totalTime = round(time.time()-startTime,2)\n",
    "        \n",
    "        print('Rodada#{}\\n'.format(lapNum,totalTime,lapTime),end='')\n",
    "        lapNum += 1\n",
    "        lastTime = time.time()\n",
    "except KeyboardInterrupt:\n",
    "    print('\\nFim')"
   ]
  },
  {
   "cell_type": "code",
   "execution_count": null,
   "metadata": {},
   "outputs": [],
   "source": []
  }
 ],
 "metadata": {
  "kernelspec": {
   "display_name": "Python 3",
   "language": "python",
   "name": "python3"
  },
  "language_info": {
   "codemirror_mode": {
    "name": "ipython",
    "version": 3
   },
   "file_extension": ".py",
   "mimetype": "text/x-python",
   "name": "python",
   "nbconvert_exporter": "python",
   "pygments_lexer": "ipython3",
   "version": "3.6.5"
  }
 },
 "nbformat": 4,
 "nbformat_minor": 2
}
