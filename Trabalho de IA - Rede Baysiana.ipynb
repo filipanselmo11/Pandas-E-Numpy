{
 "cells": [
  {
   "cell_type": "code",
   "execution_count": 71,
   "metadata": {},
   "outputs": [],
   "source": [
    "import pandas as pd\n",
    "import numpy as np\n",
    "import sklearn\n",
    "import matplotlib.pyplot as plt\n",
    "from sklearn.model_selection import train_test_split\n",
    "from sklearn.model_selection import GridSearchCV\n",
    "from sklearn.neural_network import MLPClassifier\n",
    "from sklearn.naive_bayes import GaussianNB\n",
    "from sklearn.preprocessing import LabelEncoder\n",
    "from sklearn.metrics import confusion_matrix,accuracy_score,precision_score,recall_score,f1_score\n",
    "from sklearn.feature_selection import SelectKBest\n",
    "from sklearn.feature_selection import chi2,mutual_info_classif\n",
    "import seaborn as sns\n"
   ]
  },
  {
   "cell_type": "code",
   "execution_count": 72,
   "metadata": {},
   "outputs": [
    {
     "data": {
      "text/html": [
       "<div>\n",
       "<style scoped>\n",
       "    .dataframe tbody tr th:only-of-type {\n",
       "        vertical-align: middle;\n",
       "    }\n",
       "\n",
       "    .dataframe tbody tr th {\n",
       "        vertical-align: top;\n",
       "    }\n",
       "\n",
       "    .dataframe thead th {\n",
       "        text-align: right;\n",
       "    }\n",
       "</style>\n",
       "<table border=\"1\" class=\"dataframe\">\n",
       "  <thead>\n",
       "    <tr style=\"text-align: right;\">\n",
       "      <th></th>\n",
       "      <th>id</th>\n",
       "      <th>Age</th>\n",
       "      <th>BMI</th>\n",
       "      <th>Glucose</th>\n",
       "      <th>Insulin</th>\n",
       "      <th>HOMA</th>\n",
       "      <th>Leptin</th>\n",
       "      <th>Adiponectin</th>\n",
       "      <th>Resistin</th>\n",
       "      <th>MCP.1</th>\n",
       "      <th>Classification</th>\n",
       "    </tr>\n",
       "  </thead>\n",
       "  <tbody>\n",
       "    <tr>\n",
       "      <th>0</th>\n",
       "      <td>114</td>\n",
       "      <td>47</td>\n",
       "      <td>22.0300</td>\n",
       "      <td>84</td>\n",
       "      <td>2.869</td>\n",
       "      <td>0.5900</td>\n",
       "      <td>26.6500</td>\n",
       "      <td>38.0400</td>\n",
       "      <td>3.3200</td>\n",
       "      <td>191.720</td>\n",
       "      <td>1</td>\n",
       "    </tr>\n",
       "    <tr>\n",
       "      <th>1</th>\n",
       "      <td>104</td>\n",
       "      <td>75</td>\n",
       "      <td>30.4800</td>\n",
       "      <td>152</td>\n",
       "      <td>7.010</td>\n",
       "      <td>2.6283</td>\n",
       "      <td>50.5300</td>\n",
       "      <td>10.0600</td>\n",
       "      <td>11.7300</td>\n",
       "      <td>99.450</td>\n",
       "      <td>2</td>\n",
       "    </tr>\n",
       "    <tr>\n",
       "      <th>2</th>\n",
       "      <td>90</td>\n",
       "      <td>25</td>\n",
       "      <td>22.8600</td>\n",
       "      <td>82</td>\n",
       "      <td>4.090</td>\n",
       "      <td>0.8273</td>\n",
       "      <td>20.4500</td>\n",
       "      <td>23.6700</td>\n",
       "      <td>5.1400</td>\n",
       "      <td>313.730</td>\n",
       "      <td>1</td>\n",
       "    </tr>\n",
       "    <tr>\n",
       "      <th>3</th>\n",
       "      <td>8</td>\n",
       "      <td>54</td>\n",
       "      <td>24.2188</td>\n",
       "      <td>86</td>\n",
       "      <td>3.730</td>\n",
       "      <td>0.7913</td>\n",
       "      <td>8.6874</td>\n",
       "      <td>3.7052</td>\n",
       "      <td>10.3446</td>\n",
       "      <td>635.049</td>\n",
       "      <td>2</td>\n",
       "    </tr>\n",
       "    <tr>\n",
       "      <th>4</th>\n",
       "      <td>9</td>\n",
       "      <td>69</td>\n",
       "      <td>35.0927</td>\n",
       "      <td>101</td>\n",
       "      <td>5.646</td>\n",
       "      <td>1.4066</td>\n",
       "      <td>83.4821</td>\n",
       "      <td>6.7970</td>\n",
       "      <td>82.1000</td>\n",
       "      <td>263.499</td>\n",
       "      <td>1</td>\n",
       "    </tr>\n",
       "  </tbody>\n",
       "</table>\n",
       "</div>"
      ],
      "text/plain": [
       "    id  Age      BMI  Glucose  Insulin    HOMA   Leptin  Adiponectin  \\\n",
       "0  114   47  22.0300       84    2.869  0.5900  26.6500      38.0400   \n",
       "1  104   75  30.4800      152    7.010  2.6283  50.5300      10.0600   \n",
       "2   90   25  22.8600       82    4.090  0.8273  20.4500      23.6700   \n",
       "3    8   54  24.2188       86    3.730  0.7913   8.6874       3.7052   \n",
       "4    9   69  35.0927      101    5.646  1.4066  83.4821       6.7970   \n",
       "\n",
       "   Resistin    MCP.1  Classification  \n",
       "0    3.3200  191.720               1  \n",
       "1   11.7300   99.450               2  \n",
       "2    5.1400  313.730               1  \n",
       "3   10.3446  635.049               2  \n",
       "4   82.1000  263.499               1  "
      ]
     },
     "execution_count": 72,
     "metadata": {},
     "output_type": "execute_result"
    }
   ],
   "source": [
    "data = pd.read_csv('train.csv')\n",
    "data.head()"
   ]
  },
  {
   "cell_type": "code",
   "execution_count": 73,
   "metadata": {},
   "outputs": [],
   "source": [
    "y = data['Classification']\n",
    "x = data.drop('Classification',axis=1)\n",
    "x = x.drop('id',axis=1)"
   ]
  },
  {
   "cell_type": "code",
   "execution_count": 74,
   "metadata": {},
   "outputs": [
    {
     "data": {
      "text/html": [
       "<div>\n",
       "<style scoped>\n",
       "    .dataframe tbody tr th:only-of-type {\n",
       "        vertical-align: middle;\n",
       "    }\n",
       "\n",
       "    .dataframe tbody tr th {\n",
       "        vertical-align: top;\n",
       "    }\n",
       "\n",
       "    .dataframe thead th {\n",
       "        text-align: right;\n",
       "    }\n",
       "</style>\n",
       "<table border=\"1\" class=\"dataframe\">\n",
       "  <thead>\n",
       "    <tr style=\"text-align: right;\">\n",
       "      <th></th>\n",
       "      <th>Age</th>\n",
       "      <th>BMI</th>\n",
       "      <th>Glucose</th>\n",
       "      <th>Insulin</th>\n",
       "      <th>HOMA</th>\n",
       "      <th>Leptin</th>\n",
       "      <th>Adiponectin</th>\n",
       "      <th>Resistin</th>\n",
       "      <th>MCP.1</th>\n",
       "    </tr>\n",
       "  </thead>\n",
       "  <tbody>\n",
       "    <tr>\n",
       "      <th>0</th>\n",
       "      <td>47</td>\n",
       "      <td>22.0300</td>\n",
       "      <td>84</td>\n",
       "      <td>2.869</td>\n",
       "      <td>0.5900</td>\n",
       "      <td>26.6500</td>\n",
       "      <td>38.0400</td>\n",
       "      <td>3.3200</td>\n",
       "      <td>191.720</td>\n",
       "    </tr>\n",
       "    <tr>\n",
       "      <th>1</th>\n",
       "      <td>75</td>\n",
       "      <td>30.4800</td>\n",
       "      <td>152</td>\n",
       "      <td>7.010</td>\n",
       "      <td>2.6283</td>\n",
       "      <td>50.5300</td>\n",
       "      <td>10.0600</td>\n",
       "      <td>11.7300</td>\n",
       "      <td>99.450</td>\n",
       "    </tr>\n",
       "    <tr>\n",
       "      <th>2</th>\n",
       "      <td>25</td>\n",
       "      <td>22.8600</td>\n",
       "      <td>82</td>\n",
       "      <td>4.090</td>\n",
       "      <td>0.8273</td>\n",
       "      <td>20.4500</td>\n",
       "      <td>23.6700</td>\n",
       "      <td>5.1400</td>\n",
       "      <td>313.730</td>\n",
       "    </tr>\n",
       "    <tr>\n",
       "      <th>3</th>\n",
       "      <td>54</td>\n",
       "      <td>24.2188</td>\n",
       "      <td>86</td>\n",
       "      <td>3.730</td>\n",
       "      <td>0.7913</td>\n",
       "      <td>8.6874</td>\n",
       "      <td>3.7052</td>\n",
       "      <td>10.3446</td>\n",
       "      <td>635.049</td>\n",
       "    </tr>\n",
       "    <tr>\n",
       "      <th>4</th>\n",
       "      <td>69</td>\n",
       "      <td>35.0927</td>\n",
       "      <td>101</td>\n",
       "      <td>5.646</td>\n",
       "      <td>1.4066</td>\n",
       "      <td>83.4821</td>\n",
       "      <td>6.7970</td>\n",
       "      <td>82.1000</td>\n",
       "      <td>263.499</td>\n",
       "    </tr>\n",
       "  </tbody>\n",
       "</table>\n",
       "</div>"
      ],
      "text/plain": [
       "   Age      BMI  Glucose  Insulin    HOMA   Leptin  Adiponectin  Resistin  \\\n",
       "0   47  22.0300       84    2.869  0.5900  26.6500      38.0400    3.3200   \n",
       "1   75  30.4800      152    7.010  2.6283  50.5300      10.0600   11.7300   \n",
       "2   25  22.8600       82    4.090  0.8273  20.4500      23.6700    5.1400   \n",
       "3   54  24.2188       86    3.730  0.7913   8.6874       3.7052   10.3446   \n",
       "4   69  35.0927      101    5.646  1.4066  83.4821       6.7970   82.1000   \n",
       "\n",
       "     MCP.1  \n",
       "0  191.720  \n",
       "1   99.450  \n",
       "2  313.730  \n",
       "3  635.049  \n",
       "4  263.499  "
      ]
     },
     "execution_count": 74,
     "metadata": {},
     "output_type": "execute_result"
    }
   ],
   "source": [
    "x.head()"
   ]
  },
  {
   "cell_type": "code",
   "execution_count": 75,
   "metadata": {},
   "outputs": [],
   "source": [
    "x_train,x_test,y_train,y_test = train_test_split(x,y,test_size=0.1,random_state=42)"
   ]
  },
  {
   "cell_type": "code",
   "execution_count": 76,
   "metadata": {},
   "outputs": [],
   "source": [
    "nb = GaussianNB()\n",
    "nb = nb.fit(x_train,y_train)"
   ]
  },
  {
   "cell_type": "code",
   "execution_count": 77,
   "metadata": {},
   "outputs": [],
   "source": [
    "\n",
    "ac = accuracy_score(y_test,nb.predict(x_test))\n",
    "f = f1_score(y_test,nb.predict(x_test), average='micro')\n",
    "pr = precision_score(y_test,nb.predict(x_test),average='micro')"
   ]
  },
  {
   "cell_type": "code",
   "execution_count": 78,
   "metadata": {},
   "outputs": [
    {
     "name": "stdout",
     "output_type": "stream",
     "text": [
      "Acurácia é:  0.6\n",
      "F1-Score é:  0.6\n",
      "Precisão é:  0.6\n"
     ]
    }
   ],
   "source": [
    "print('Acurácia é: ' ,ac)\n",
    "print('F1-Score é: ',f)\n",
    "print('Precisão é: ',pr)"
   ]
  },
  {
   "cell_type": "code",
   "execution_count": 79,
   "metadata": {},
   "outputs": [],
   "source": [
    "select_feature = SelectKBest(chi2, k=5).fit(x_train,y_train)"
   ]
  },
  {
   "cell_type": "code",
   "execution_count": 80,
   "metadata": {},
   "outputs": [
    {
     "name": "stdout",
     "output_type": "stream",
     "text": [
      "Score Lista [2.11739278e-02 2.70182175e+00 4.28986176e+01 4.91577422e+01\n",
      " 2.43315875e+01 8.48884666e-01 2.94505062e+00 1.36325063e+01\n",
      " 5.82138642e+00]\n",
      "Caracteristicas da Lista:  Index(['Age', 'BMI', 'Glucose', 'Insulin', 'HOMA', 'Leptin', 'Adiponectin',\n",
      "       'Resistin', 'MCP.1'],\n",
      "      dtype='object')\n"
     ]
    }
   ],
   "source": [
    "print('Score Lista', select_feature.scores_)\n",
    "print('Caracteristicas da Lista: ',x_train.columns)"
   ]
  },
  {
   "cell_type": "code",
   "execution_count": 81,
   "metadata": {},
   "outputs": [],
   "source": [
    "x_train_2 = select_feature.transform(x_train)\n",
    "x_test_2 = select_feature.transform(x_test)"
   ]
  },
  {
   "cell_type": "code",
   "execution_count": 82,
   "metadata": {},
   "outputs": [],
   "source": [
    "nb_2 = GaussianNB()\n",
    "nb_2 = nb_2.fit(x_train_2, y_train)"
   ]
  },
  {
   "cell_type": "code",
   "execution_count": 83,
   "metadata": {},
   "outputs": [],
   "source": [
    "ac_2 = accuracy_score(y_test,nb_2.predict(x_test_2))\n",
    "f_2 = f1_score(y_test,nb_2.predict(x_test_2))\n",
    "pr_2 = precision_score(y_test,nb_2.predict(x_test_2), average='macro')"
   ]
  },
  {
   "cell_type": "code",
   "execution_count": 84,
   "metadata": {},
   "outputs": [
    {
     "name": "stdout",
     "output_type": "stream",
     "text": [
      "Acurácia:  0.8\n",
      "F1-Score:  0.8333333333333333\n",
      "Precisão é:  0.8571428571428572\n"
     ]
    }
   ],
   "source": [
    "print('Acurácia: ',ac_2)\n",
    "print('F1-Score: ',f_2)\n",
    "print('Precisão é: ',pr_2)"
   ]
  },
  {
   "cell_type": "code",
   "execution_count": null,
   "metadata": {},
   "outputs": [],
   "source": []
  }
 ],
 "metadata": {
  "kernelspec": {
   "display_name": "Python 3",
   "language": "python",
   "name": "python3"
  },
  "language_info": {
   "codemirror_mode": {
    "name": "ipython",
    "version": 3
   },
   "file_extension": ".py",
   "mimetype": "text/x-python",
   "name": "python",
   "nbconvert_exporter": "python",
   "pygments_lexer": "ipython3",
   "version": "3.6.5"
  }
 },
 "nbformat": 4,
 "nbformat_minor": 2
}
