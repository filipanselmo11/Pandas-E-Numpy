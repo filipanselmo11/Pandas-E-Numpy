{
  "nbformat": 4,
  "nbformat_minor": 0,
  "metadata": {
    "colab": {
      "name": "K_Means.ipynb",
      "version": "0.3.2",
      "provenance": [],
      "collapsed_sections": []
    },
    "kernelspec": {
      "name": "python3",
      "display_name": "Python 3"
    }
  },
  "cells": [
    {
      "metadata": {
        "id": "wf1lYw8AmjOb",
        "colab_type": "code",
        "outputId": "c1a6e0bc-adf6-40f3-b528-8b067eccc009",
        "colab": {
          "base_uri": "https://localhost:8080/",
          "height": 122
        }
      },
      "cell_type": "code",
      "source": [
        "from google.colab import drive\n",
        "drive.mount('/content/drive/')"
      ],
      "execution_count": 3,
      "outputs": [
        {
          "output_type": "stream",
          "text": [
            "Go to this URL in a browser: https://accounts.google.com/o/oauth2/auth?client_id=947318989803-6bn6qk8qdgf4n4g3pfee6491hc0brc4i.apps.googleusercontent.com&redirect_uri=urn%3Aietf%3Awg%3Aoauth%3A2.0%3Aoob&scope=email%20https%3A%2F%2Fwww.googleapis.com%2Fauth%2Fdocs.test%20https%3A%2F%2Fwww.googleapis.com%2Fauth%2Fdrive%20https%3A%2F%2Fwww.googleapis.com%2Fauth%2Fdrive.photos.readonly%20https%3A%2F%2Fwww.googleapis.com%2Fauth%2Fpeopleapi.readonly&response_type=code\n",
            "\n",
            "Enter your authorization code:\n",
            "··········\n",
            "Mounted at /content/drive/\n"
          ],
          "name": "stdout"
        }
      ]
    },
    {
      "metadata": {
        "id": "IaHuR5oomx59",
        "colab_type": "code",
        "colab": {}
      },
      "cell_type": "code",
      "source": [
        "import pandas as pd\n",
        "import numpy as np\n",
        "# import matplotlib.pyplot as plt\n",
        "# from sklearn.model_selection import GridSearchCV\n",
        "# from sklearn.neural_network import MLPClassifier\n",
        "from sklearn.metrics import accuracy_score,precision_score,f1_score\n",
        "from sklearn.model_selection import train_test_split\n",
        "# from sklearn.preprocessing import StandardScaler,scale,minmax_scale\n",
        "# from sklearn.decomposition import PCA\n",
        "from sklearn.feature_selection import SelectKBest\n",
        "from sklearn.feature_selection import chi2#,mutual_info_classif\n",
        "# from pandas.tools.plotting import scatter_matrix\n",
        "# from sklearn import svm\n",
        "# from sklearn.ensemble import RandomForestClassifier\n",
        "from sklearn.cluster import KMeans\n"
      ],
      "execution_count": 0,
      "outputs": []
    },
    {
      "metadata": {
        "id": "oJLZw6GF_4pa",
        "colab_type": "code",
        "colab": {}
      },
      "cell_type": "code",
      "source": [
        "data = pd.read_csv(\"/content/drive/My Drive/app/train.csv\", delimiter=',')"
      ],
      "execution_count": 0,
      "outputs": []
    },
    {
      "metadata": {
        "id": "PDCYvBs2AT0_",
        "colab_type": "code",
        "colab": {}
      },
      "cell_type": "code",
      "source": [
        "y = data['Classification']\n",
        "X = data.drop('Classification',axis=1)\n",
        "X = X.drop('id',axis=1)"
      ],
      "execution_count": 0,
      "outputs": []
    },
    {
      "metadata": {
        "id": "saz9fyjYAXVF",
        "colab_type": "code",
        "colab": {
          "base_uri": "https://localhost:8080/",
          "height": 204
        },
        "outputId": "893bd231-ffc8-4660-c714-c5ebbfcf641a"
      },
      "cell_type": "code",
      "source": [
        "X.head()"
      ],
      "execution_count": 7,
      "outputs": [
        {
          "output_type": "execute_result",
          "data": {
            "text/html": [
              "<div>\n",
              "<style scoped>\n",
              "    .dataframe tbody tr th:only-of-type {\n",
              "        vertical-align: middle;\n",
              "    }\n",
              "\n",
              "    .dataframe tbody tr th {\n",
              "        vertical-align: top;\n",
              "    }\n",
              "\n",
              "    .dataframe thead th {\n",
              "        text-align: right;\n",
              "    }\n",
              "</style>\n",
              "<table border=\"1\" class=\"dataframe\">\n",
              "  <thead>\n",
              "    <tr style=\"text-align: right;\">\n",
              "      <th></th>\n",
              "      <th>Age</th>\n",
              "      <th>BMI</th>\n",
              "      <th>Glucose</th>\n",
              "      <th>Insulin</th>\n",
              "      <th>HOMA</th>\n",
              "      <th>Leptin</th>\n",
              "      <th>Adiponectin</th>\n",
              "      <th>Resistin</th>\n",
              "      <th>MCP.1</th>\n",
              "    </tr>\n",
              "  </thead>\n",
              "  <tbody>\n",
              "    <tr>\n",
              "      <th>0</th>\n",
              "      <td>47</td>\n",
              "      <td>22.0300</td>\n",
              "      <td>84</td>\n",
              "      <td>2.869</td>\n",
              "      <td>0.5900</td>\n",
              "      <td>26.6500</td>\n",
              "      <td>38.0400</td>\n",
              "      <td>3.3200</td>\n",
              "      <td>191.720</td>\n",
              "    </tr>\n",
              "    <tr>\n",
              "      <th>1</th>\n",
              "      <td>75</td>\n",
              "      <td>30.4800</td>\n",
              "      <td>152</td>\n",
              "      <td>7.010</td>\n",
              "      <td>2.6283</td>\n",
              "      <td>50.5300</td>\n",
              "      <td>10.0600</td>\n",
              "      <td>11.7300</td>\n",
              "      <td>99.450</td>\n",
              "    </tr>\n",
              "    <tr>\n",
              "      <th>2</th>\n",
              "      <td>25</td>\n",
              "      <td>22.8600</td>\n",
              "      <td>82</td>\n",
              "      <td>4.090</td>\n",
              "      <td>0.8273</td>\n",
              "      <td>20.4500</td>\n",
              "      <td>23.6700</td>\n",
              "      <td>5.1400</td>\n",
              "      <td>313.730</td>\n",
              "    </tr>\n",
              "    <tr>\n",
              "      <th>3</th>\n",
              "      <td>54</td>\n",
              "      <td>24.2188</td>\n",
              "      <td>86</td>\n",
              "      <td>3.730</td>\n",
              "      <td>0.7913</td>\n",
              "      <td>8.6874</td>\n",
              "      <td>3.7052</td>\n",
              "      <td>10.3446</td>\n",
              "      <td>635.049</td>\n",
              "    </tr>\n",
              "    <tr>\n",
              "      <th>4</th>\n",
              "      <td>69</td>\n",
              "      <td>35.0927</td>\n",
              "      <td>101</td>\n",
              "      <td>5.646</td>\n",
              "      <td>1.4066</td>\n",
              "      <td>83.4821</td>\n",
              "      <td>6.7970</td>\n",
              "      <td>82.1000</td>\n",
              "      <td>263.499</td>\n",
              "    </tr>\n",
              "  </tbody>\n",
              "</table>\n",
              "</div>"
            ],
            "text/plain": [
              "   Age      BMI  Glucose  Insulin    HOMA   Leptin  Adiponectin  Resistin  \\\n",
              "0   47  22.0300       84    2.869  0.5900  26.6500      38.0400    3.3200   \n",
              "1   75  30.4800      152    7.010  2.6283  50.5300      10.0600   11.7300   \n",
              "2   25  22.8600       82    4.090  0.8273  20.4500      23.6700    5.1400   \n",
              "3   54  24.2188       86    3.730  0.7913   8.6874       3.7052   10.3446   \n",
              "4   69  35.0927      101    5.646  1.4066  83.4821       6.7970   82.1000   \n",
              "\n",
              "     MCP.1  \n",
              "0  191.720  \n",
              "1   99.450  \n",
              "2  313.730  \n",
              "3  635.049  \n",
              "4  263.499  "
            ]
          },
          "metadata": {
            "tags": []
          },
          "execution_count": 7
        }
      ]
    },
    {
      "metadata": {
        "id": "_HJ5kagdAaRL",
        "colab_type": "text"
      },
      "cell_type": "markdown",
      "source": [
        "# **Solução 1**"
      ]
    },
    {
      "metadata": {
        "id": "YzIVzK8TAnn2",
        "colab_type": "code",
        "colab": {}
      },
      "cell_type": "code",
      "source": [
        "x_train,x_test,y_train,y_test = train_test_split(X,y,test_size=0.1,random_state=42)"
      ],
      "execution_count": 0,
      "outputs": []
    },
    {
      "metadata": {
        "id": "_T4JluQgAzCD",
        "colab_type": "code",
        "colab": {}
      },
      "cell_type": "code",
      "source": [
        "kmeans = KMeans(n_clusters = 2, init = 'random')\n",
        "kmeans = kmeans.fit(x_train,y_train)"
      ],
      "execution_count": 0,
      "outputs": []
    },
    {
      "metadata": {
        "id": "ZA6fP96RBL1k",
        "colab_type": "code",
        "colab": {
          "base_uri": "https://localhost:8080/",
          "height": 139
        },
        "outputId": "5ac12777-de2b-4f79-ad7c-6f93b7c9b311"
      },
      "cell_type": "code",
      "source": [
        "ac = accuracy_score(y_test, kmeans.predict(x_test))\n",
        "f = f1_score(y_test, kmeans.predict(x_test), average='macro')\n",
        "pr = precision_score(y_test, kmeans.predict(x_test), average='macro')"
      ],
      "execution_count": 18,
      "outputs": [
        {
          "output_type": "stream",
          "text": [
            "/usr/local/lib/python3.6/dist-packages/sklearn/metrics/classification.py:1135: UndefinedMetricWarning: F-score is ill-defined and being set to 0.0 in labels with no predicted samples.\n",
            "  'precision', 'predicted', average, warn_for)\n",
            "/usr/local/lib/python3.6/dist-packages/sklearn/metrics/classification.py:1137: UndefinedMetricWarning: F-score is ill-defined and being set to 0.0 in labels with no true samples.\n",
            "  'recall', 'true', average, warn_for)\n",
            "/usr/local/lib/python3.6/dist-packages/sklearn/metrics/classification.py:1135: UndefinedMetricWarning: Precision is ill-defined and being set to 0.0 in labels with no predicted samples.\n",
            "  'precision', 'predicted', average, warn_for)\n"
          ],
          "name": "stderr"
        }
      ]
    },
    {
      "metadata": {
        "id": "HXKIsg7aBl0K",
        "colab_type": "code",
        "colab": {
          "base_uri": "https://localhost:8080/",
          "height": 68
        },
        "outputId": "0e4b79b8-e2bb-4f01-e26a-5a1d7268d9bd"
      },
      "cell_type": "code",
      "source": [
        "print('Accurácia é: ',ac)\n",
        "print('F1-Score é:',f)\n",
        "print('Precisão é: ',pr)"
      ],
      "execution_count": 19,
      "outputs": [
        {
          "output_type": "stream",
          "text": [
            "Accurácia é:  0.5\n",
            "F1-Score é: 0.27777777777777773\n",
            "Precisão é:  0.2380952380952381\n"
          ],
          "name": "stdout"
        }
      ]
    },
    {
      "metadata": {
        "id": "Hx8rlmvJBryF",
        "colab_type": "text"
      },
      "cell_type": "markdown",
      "source": [
        "# **Solução 2**"
      ]
    },
    {
      "metadata": {
        "id": "hdP8VDvxBvTw",
        "colab_type": "code",
        "colab": {}
      },
      "cell_type": "code",
      "source": [
        "select_feature = SelectKBest(chi2, k=5).fit(x_train, y_train)"
      ],
      "execution_count": 0,
      "outputs": []
    },
    {
      "metadata": {
        "id": "LP-k4XQwCEKv",
        "colab_type": "code",
        "colab": {
          "base_uri": "https://localhost:8080/",
          "height": 119
        },
        "outputId": "4ee14280-ad0e-48a3-96e9-4829f3428c97"
      },
      "cell_type": "code",
      "source": [
        "print('Score Lista:',select_feature.scores_)\n",
        "print('Caracteristicas lista:',x_train.columns)"
      ],
      "execution_count": 25,
      "outputs": [
        {
          "output_type": "stream",
          "text": [
            "Score Lista: [2.11739278e-02 2.70182175e+00 4.28986176e+01 4.91577422e+01\n",
            " 2.43315875e+01 8.48884666e-01 2.94505062e+00 1.36325063e+01\n",
            " 5.82138642e+00]\n",
            "Caracteristicas lista: Index(['Age', 'BMI', 'Glucose', 'Insulin', 'HOMA', 'Leptin', 'Adiponectin',\n",
            "       'Resistin', 'MCP.1'],\n",
            "      dtype='object')\n"
          ],
          "name": "stdout"
        }
      ]
    },
    {
      "metadata": {
        "id": "oZIBhOPvCIVG",
        "colab_type": "code",
        "colab": {
          "base_uri": "https://localhost:8080/",
          "height": 139
        },
        "outputId": "2a57cd5f-7cd8-4c2a-8a04-57f715ba0524"
      },
      "cell_type": "code",
      "source": [
        "x_train_2 = select_feature.transform(x_train)\n",
        "x_test_2 = select_feature.transform(x_test)\n",
        "\n",
        "kmeans_2 = KMeans(n_clusters = 2, init = 'random')\n",
        "kmeans_2 = kmeans_2.fit(x_train_2, y_train)\n",
        "\n",
        "ac_2 = accuracy_score(y_test, kmeans_2.predict(x_test_2))\n",
        "f_2 = f1_score(y_test, kmeans_2.predict(x_test_2), average='macro')\n",
        "pr_2 = precision_score(y_test, kmeans_2.predict(x_test_2), average='macro')"
      ],
      "execution_count": 27,
      "outputs": [
        {
          "output_type": "stream",
          "text": [
            "/usr/local/lib/python3.6/dist-packages/sklearn/metrics/classification.py:1135: UndefinedMetricWarning: F-score is ill-defined and being set to 0.0 in labels with no predicted samples.\n",
            "  'precision', 'predicted', average, warn_for)\n",
            "/usr/local/lib/python3.6/dist-packages/sklearn/metrics/classification.py:1137: UndefinedMetricWarning: F-score is ill-defined and being set to 0.0 in labels with no true samples.\n",
            "  'recall', 'true', average, warn_for)\n",
            "/usr/local/lib/python3.6/dist-packages/sklearn/metrics/classification.py:1135: UndefinedMetricWarning: Precision is ill-defined and being set to 0.0 in labels with no predicted samples.\n",
            "  'precision', 'predicted', average, warn_for)\n"
          ],
          "name": "stderr"
        }
      ]
    },
    {
      "metadata": {
        "id": "Yk_e6bnTCjrb",
        "colab_type": "code",
        "colab": {
          "base_uri": "https://localhost:8080/",
          "height": 68
        },
        "outputId": "099e9cda-09d3-486d-ac23-7e80e001261e"
      },
      "cell_type": "code",
      "source": [
        "print('Acurácia é: ' ,ac)\n",
        "print('F1-Score é: ',f)\n",
        "print('Precisão é: ',pr)"
      ],
      "execution_count": 28,
      "outputs": [
        {
          "output_type": "stream",
          "text": [
            "Acurácia é:  0.5\n",
            "F1-Score é:  0.27777777777777773\n",
            "Precisão é:  0.2380952380952381\n"
          ],
          "name": "stdout"
        }
      ]
    },
    {
      "metadata": {
        "id": "teguuXMhCtoo",
        "colab_type": "text"
      },
      "cell_type": "markdown",
      "source": [
        "# **Teste com o Melhor Classificador**"
      ]
    },
    {
      "metadata": {
        "id": "vxc19gOKCvnu",
        "colab_type": "code",
        "colab": {}
      },
      "cell_type": "code",
      "source": [
        "data_test = pd.read_csv(\"/content/drive/My Drive/app/test.csv\",delimiter=',')"
      ],
      "execution_count": 0,
      "outputs": []
    },
    {
      "metadata": {
        "id": "V9Slm1aiFfNd",
        "colab_type": "code",
        "colab": {
          "base_uri": "https://localhost:8080/",
          "height": 204
        },
        "outputId": "b39d2a8b-4de9-4231-b71d-705f782ae58f"
      },
      "cell_type": "code",
      "source": [
        "data_test.head()"
      ],
      "execution_count": 34,
      "outputs": [
        {
          "output_type": "execute_result",
          "data": {
            "text/html": [
              "<div>\n",
              "<style scoped>\n",
              "    .dataframe tbody tr th:only-of-type {\n",
              "        vertical-align: middle;\n",
              "    }\n",
              "\n",
              "    .dataframe tbody tr th {\n",
              "        vertical-align: top;\n",
              "    }\n",
              "\n",
              "    .dataframe thead th {\n",
              "        text-align: right;\n",
              "    }\n",
              "</style>\n",
              "<table border=\"1\" class=\"dataframe\">\n",
              "  <thead>\n",
              "    <tr style=\"text-align: right;\">\n",
              "      <th></th>\n",
              "      <th>id</th>\n",
              "      <th>Age</th>\n",
              "      <th>BMI</th>\n",
              "      <th>Glucose</th>\n",
              "      <th>Insulin</th>\n",
              "      <th>HOMA</th>\n",
              "      <th>Leptin</th>\n",
              "      <th>Adiponectin</th>\n",
              "      <th>Resistin</th>\n",
              "      <th>MCP.1</th>\n",
              "    </tr>\n",
              "  </thead>\n",
              "  <tbody>\n",
              "    <tr>\n",
              "      <th>0</th>\n",
              "      <td>100</td>\n",
              "      <td>62</td>\n",
              "      <td>22.6562</td>\n",
              "      <td>92</td>\n",
              "      <td>3.482</td>\n",
              "      <td>0.7902</td>\n",
              "      <td>9.8648</td>\n",
              "      <td>11.2362</td>\n",
              "      <td>10.6955</td>\n",
              "      <td>703.973</td>\n",
              "    </tr>\n",
              "    <tr>\n",
              "      <th>1</th>\n",
              "      <td>78</td>\n",
              "      <td>29</td>\n",
              "      <td>23.0100</td>\n",
              "      <td>82</td>\n",
              "      <td>5.663</td>\n",
              "      <td>1.1454</td>\n",
              "      <td>35.5900</td>\n",
              "      <td>26.7200</td>\n",
              "      <td>4.5800</td>\n",
              "      <td>174.800</td>\n",
              "    </tr>\n",
              "    <tr>\n",
              "      <th>2</th>\n",
              "      <td>77</td>\n",
              "      <td>75</td>\n",
              "      <td>25.7000</td>\n",
              "      <td>94</td>\n",
              "      <td>8.079</td>\n",
              "      <td>1.8733</td>\n",
              "      <td>65.9260</td>\n",
              "      <td>3.7412</td>\n",
              "      <td>4.4968</td>\n",
              "      <td>206.802</td>\n",
              "    </tr>\n",
              "    <tr>\n",
              "      <th>3</th>\n",
              "      <td>113</td>\n",
              "      <td>44</td>\n",
              "      <td>27.8876</td>\n",
              "      <td>99</td>\n",
              "      <td>9.208</td>\n",
              "      <td>2.2486</td>\n",
              "      <td>12.6757</td>\n",
              "      <td>5.4782</td>\n",
              "      <td>23.0331</td>\n",
              "      <td>407.206</td>\n",
              "    </tr>\n",
              "    <tr>\n",
              "      <th>4</th>\n",
              "      <td>86</td>\n",
              "      <td>75</td>\n",
              "      <td>23.0000</td>\n",
              "      <td>83</td>\n",
              "      <td>4.952</td>\n",
              "      <td>1.0138</td>\n",
              "      <td>17.1270</td>\n",
              "      <td>11.5790</td>\n",
              "      <td>7.0913</td>\n",
              "      <td>318.302</td>\n",
              "    </tr>\n",
              "  </tbody>\n",
              "</table>\n",
              "</div>"
            ],
            "text/plain": [
              "    id  Age      BMI  Glucose  Insulin    HOMA   Leptin  Adiponectin  \\\n",
              "0  100   62  22.6562       92    3.482  0.7902   9.8648      11.2362   \n",
              "1   78   29  23.0100       82    5.663  1.1454  35.5900      26.7200   \n",
              "2   77   75  25.7000       94    8.079  1.8733  65.9260       3.7412   \n",
              "3  113   44  27.8876       99    9.208  2.2486  12.6757       5.4782   \n",
              "4   86   75  23.0000       83    4.952  1.0138  17.1270      11.5790   \n",
              "\n",
              "   Resistin    MCP.1  \n",
              "0   10.6955  703.973  \n",
              "1    4.5800  174.800  \n",
              "2    4.4968  206.802  \n",
              "3   23.0331  407.206  \n",
              "4    7.0913  318.302  "
            ]
          },
          "metadata": {
            "tags": []
          },
          "execution_count": 34
        }
      ]
    },
    {
      "metadata": {
        "id": "I39xVBqoFhm_",
        "colab_type": "code",
        "colab": {}
      },
      "cell_type": "code",
      "source": [
        "data_test = data_test.drop('id',axis=1)"
      ],
      "execution_count": 0,
      "outputs": []
    },
    {
      "metadata": {
        "id": "bFET64B0FjmS",
        "colab_type": "code",
        "colab": {
          "base_uri": "https://localhost:8080/",
          "height": 204
        },
        "outputId": "6d6b8e2e-4d0e-4fc4-d781-39bb0e929fb4"
      },
      "cell_type": "code",
      "source": [
        "data_test.head()"
      ],
      "execution_count": 36,
      "outputs": [
        {
          "output_type": "execute_result",
          "data": {
            "text/html": [
              "<div>\n",
              "<style scoped>\n",
              "    .dataframe tbody tr th:only-of-type {\n",
              "        vertical-align: middle;\n",
              "    }\n",
              "\n",
              "    .dataframe tbody tr th {\n",
              "        vertical-align: top;\n",
              "    }\n",
              "\n",
              "    .dataframe thead th {\n",
              "        text-align: right;\n",
              "    }\n",
              "</style>\n",
              "<table border=\"1\" class=\"dataframe\">\n",
              "  <thead>\n",
              "    <tr style=\"text-align: right;\">\n",
              "      <th></th>\n",
              "      <th>Age</th>\n",
              "      <th>BMI</th>\n",
              "      <th>Glucose</th>\n",
              "      <th>Insulin</th>\n",
              "      <th>HOMA</th>\n",
              "      <th>Leptin</th>\n",
              "      <th>Adiponectin</th>\n",
              "      <th>Resistin</th>\n",
              "      <th>MCP.1</th>\n",
              "    </tr>\n",
              "  </thead>\n",
              "  <tbody>\n",
              "    <tr>\n",
              "      <th>0</th>\n",
              "      <td>62</td>\n",
              "      <td>22.6562</td>\n",
              "      <td>92</td>\n",
              "      <td>3.482</td>\n",
              "      <td>0.7902</td>\n",
              "      <td>9.8648</td>\n",
              "      <td>11.2362</td>\n",
              "      <td>10.6955</td>\n",
              "      <td>703.973</td>\n",
              "    </tr>\n",
              "    <tr>\n",
              "      <th>1</th>\n",
              "      <td>29</td>\n",
              "      <td>23.0100</td>\n",
              "      <td>82</td>\n",
              "      <td>5.663</td>\n",
              "      <td>1.1454</td>\n",
              "      <td>35.5900</td>\n",
              "      <td>26.7200</td>\n",
              "      <td>4.5800</td>\n",
              "      <td>174.800</td>\n",
              "    </tr>\n",
              "    <tr>\n",
              "      <th>2</th>\n",
              "      <td>75</td>\n",
              "      <td>25.7000</td>\n",
              "      <td>94</td>\n",
              "      <td>8.079</td>\n",
              "      <td>1.8733</td>\n",
              "      <td>65.9260</td>\n",
              "      <td>3.7412</td>\n",
              "      <td>4.4968</td>\n",
              "      <td>206.802</td>\n",
              "    </tr>\n",
              "    <tr>\n",
              "      <th>3</th>\n",
              "      <td>44</td>\n",
              "      <td>27.8876</td>\n",
              "      <td>99</td>\n",
              "      <td>9.208</td>\n",
              "      <td>2.2486</td>\n",
              "      <td>12.6757</td>\n",
              "      <td>5.4782</td>\n",
              "      <td>23.0331</td>\n",
              "      <td>407.206</td>\n",
              "    </tr>\n",
              "    <tr>\n",
              "      <th>4</th>\n",
              "      <td>75</td>\n",
              "      <td>23.0000</td>\n",
              "      <td>83</td>\n",
              "      <td>4.952</td>\n",
              "      <td>1.0138</td>\n",
              "      <td>17.1270</td>\n",
              "      <td>11.5790</td>\n",
              "      <td>7.0913</td>\n",
              "      <td>318.302</td>\n",
              "    </tr>\n",
              "  </tbody>\n",
              "</table>\n",
              "</div>"
            ],
            "text/plain": [
              "   Age      BMI  Glucose  Insulin    HOMA   Leptin  Adiponectin  Resistin  \\\n",
              "0   62  22.6562       92    3.482  0.7902   9.8648      11.2362   10.6955   \n",
              "1   29  23.0100       82    5.663  1.1454  35.5900      26.7200    4.5800   \n",
              "2   75  25.7000       94    8.079  1.8733  65.9260       3.7412    4.4968   \n",
              "3   44  27.8876       99    9.208  2.2486  12.6757       5.4782   23.0331   \n",
              "4   75  23.0000       83    4.952  1.0138  17.1270      11.5790    7.0913   \n",
              "\n",
              "     MCP.1  \n",
              "0  703.973  \n",
              "1  174.800  \n",
              "2  206.802  \n",
              "3  407.206  \n",
              "4  318.302  "
            ]
          },
          "metadata": {
            "tags": []
          },
          "execution_count": 36
        }
      ]
    },
    {
      "metadata": {
        "id": "T3sExMN8Fk6V",
        "colab_type": "code",
        "colab": {
          "base_uri": "https://localhost:8080/",
          "height": 51
        },
        "outputId": "99822e25-fa84-4466-86ed-afeab2ec7a0b"
      },
      "cell_type": "code",
      "source": [
        "kmeans.predict(data_test)"
      ],
      "execution_count": 39,
      "outputs": [
        {
          "output_type": "execute_result",
          "data": {
            "text/plain": [
              "array([0, 1, 1, 1, 1, 0, 1, 1, 0, 0, 1, 0, 1, 0, 1, 0, 1, 1, 1, 0, 1, 1,\n",
              "       1, 1], dtype=int32)"
            ]
          },
          "metadata": {
            "tags": []
          },
          "execution_count": 39
        }
      ]
    },
    {
      "metadata": {
        "id": "hj0b60psF0mL",
        "colab_type": "code",
        "colab": {}
      },
      "cell_type": "code",
      "source": [
        "out = kmeans.predict(data_test)"
      ],
      "execution_count": 0,
      "outputs": []
    },
    {
      "metadata": {
        "id": "AD117hnBF9xp",
        "colab_type": "code",
        "colab": {}
      },
      "cell_type": "code",
      "source": [
        "out = pd.DataFrame(out,columns=['Classificacion'])"
      ],
      "execution_count": 0,
      "outputs": []
    },
    {
      "metadata": {
        "id": "rYyufCXgGABZ",
        "colab_type": "code",
        "colab": {}
      },
      "cell_type": "code",
      "source": [
        "out.to_csv('saida.csv',index=False)"
      ],
      "execution_count": 0,
      "outputs": []
    }
  ]
}