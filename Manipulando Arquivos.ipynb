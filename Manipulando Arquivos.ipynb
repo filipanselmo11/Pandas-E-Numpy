{
 "cells": [
  {
   "cell_type": "code",
   "execution_count": 1,
   "metadata": {},
   "outputs": [],
   "source": [
    "import os"
   ]
  },
  {
   "cell_type": "markdown",
   "metadata": {},
   "source": [
    "##Em qual diretorio estou?"
   ]
  },
  {
   "cell_type": "code",
   "execution_count": 2,
   "metadata": {},
   "outputs": [
    {
     "data": {
      "text/plain": [
       "'/home/filipanselmo/Documentos/JuPyter'"
      ]
     },
     "execution_count": 2,
     "metadata": {},
     "output_type": "execute_result"
    }
   ],
   "source": [
    "getDir = os.getcwd()\n",
    "getDir"
   ]
  },
  {
   "cell_type": "code",
   "execution_count": 3,
   "metadata": {},
   "outputs": [],
   "source": [
    "newDir = getDir + '/novo_diretorio'\n",
    "os.makedirs(newDir)"
   ]
  },
  {
   "cell_type": "code",
   "execution_count": 4,
   "metadata": {},
   "outputs": [
    {
     "name": "stdout",
     "output_type": "stream",
     "text": [
      " \u001b[0m\u001b[01;35mAaron_Eckhart_0001.jpg\u001b[0m             kaggle_internet.csv\r\n",
      "'Baby Names(1880-2010).ipynb'      'KMeans(1).ipynb'\r\n",
      "'Baby Names(1880-2010)V2.ipynb'     K_Means.ipynb\r\n",
      "'Baby Names(1880-2010)V3.ipynb'    'Manipulando Arquivos.ipynb'\r\n",
      " \u001b[01;35mcute-cat.jpg\u001b[0m                       \u001b[01;35mminicurso_wt.jpg\u001b[0m\r\n",
      " data_algo.csv                      ModeloKNN.ipynb\r\n",
      " data_classes.csv                  'Modelo Rede Bayesiana.ipynb'\r\n",
      " data.csv                          'Movies Title Netflix.ipynb'\r\n",
      " data_oficina.csv                   NBA_player_of_the_week.csv\r\n",
      " \u001b[01;34mDataSets\u001b[0m/                          \u001b[01;34mnovo_diretorio\u001b[0m/\r\n",
      " \u001b[01;35meu.jpeg\u001b[0m                           'Pessoas Sem Internet.ipynb'\r\n",
      " ExemploKMeans.ipynb                Pil.ipynb\r\n",
      "'Exemplo Pandas e NumPy.ipynb'     'RandomForest Classification.ipynb'\r\n",
      " ExemploPCA.ipynb                   saida.csv\r\n",
      " exemploSOma.ipynb                  sandbox.csv\r\n",
      "'Exemplo SupriseLibe.ipynb'         test.csv\r\n",
      " ExemploSVM.ipynb                  \u001b[01;31m'Trabalho de IA 1.ipynb.tar.gz'\u001b[0m\r\n",
      " EXKNN.ipynb                       'Trabalho de IA - KNN.ipynb'\r\n",
      " ExSVM.ipynb                       'Trabalho de IA - Rede Baysiana.ipynb'\r\n",
      " FaceDeteccao.ipynb                'Trabalho IA - KMeans.ipynb'\r\n",
      " filmes.csv                         train.csv\r\n",
      " FiltragemBaseadaEmConteudo.ipynb   vgsales.csv\r\n",
      " googleplaystore.csv               'Video Games Ḿais Vendidos.ipynb'\r\n",
      " googleplaystore_user_reviews.csv   yob.1880.txt\r\n",
      "'Hello World.ipynb'                 yob1880.txt\r\n"
     ]
    }
   ],
   "source": [
    "ls"
   ]
  },
  {
   "cell_type": "code",
   "execution_count": 5,
   "metadata": {},
   "outputs": [
    {
     "name": "stdout",
     "output_type": "stream",
     "text": [
      "/home/filipanselmo/Documentos/JuPyter/novo_diretorio\n"
     ]
    }
   ],
   "source": [
    "cd novo_diretorio/"
   ]
  },
  {
   "cell_type": "code",
   "execution_count": 7,
   "metadata": {},
   "outputs": [
    {
     "data": {
      "text/plain": [
       "True"
      ]
     },
     "execution_count": 7,
     "metadata": {},
     "output_type": "execute_result"
    }
   ],
   "source": [
    "os.path.exists(newDir)"
   ]
  },
  {
   "cell_type": "code",
   "execution_count": 10,
   "metadata": {},
   "outputs": [],
   "source": [
    "#os.rename(newDir, 'Filip')"
   ]
  },
  {
   "cell_type": "code",
   "execution_count": 11,
   "metadata": {},
   "outputs": [],
   "source": [
    "os.rmdir(newDir)"
   ]
  },
  {
   "cell_type": "code",
   "execution_count": 12,
   "metadata": {},
   "outputs": [
    {
     "name": "stdout",
     "output_type": "stream",
     "text": [
      "sh: 0: getcwd() failed: No such file or directory\r\n"
     ]
    }
   ],
   "source": [
    "ls"
   ]
  },
  {
   "cell_type": "code",
   "execution_count": 13,
   "metadata": {},
   "outputs": [
    {
     "name": "stdout",
     "output_type": "stream",
     "text": [
      "/home/filipanselmo/Documentos/JuPyter\n"
     ]
    }
   ],
   "source": [
    "cd .."
   ]
  },
  {
   "cell_type": "code",
   "execution_count": 14,
   "metadata": {},
   "outputs": [],
   "source": [
    "book = open('pequenoprincipe.txt')"
   ]
  },
  {
   "cell_type": "code",
   "execution_count": 15,
   "metadata": {},
   "outputs": [
    {
     "data": {
      "text/plain": [
       "'O narrador recorda-se do seu primeiro desenho de crianca, tentativa frustrada de os adultos entender o mundo infantil ou o mundo das pessoas de alma pura. \\nEle havia desenhado um elefante engolido por uma jiboia, porem os adultos so diziam que era um chapeu. \\nQuando cresceu, testava o grau de lucidez das pessoas, mostrando-lhes o desenho e todas respondiam a mesma coisa. \\nPor causa disto, viveu sem amigos com os quais pudesse realmente conversar. Pelas decepcoes com os desenhos, escolhera a profissao de Piloto e, em certo dia, houve uma pane em seu aviao, vindo a cair no Deserto de Saara. \\nNa primeira noite, ele adormeceu sobre a areia. \\nAo despertar do dia, uma voz estranha o acordou, pedindo para que ele desenhasse um carneiro. Era um pedacinho de gente, um rapazinho de cabelos dourados, o Pequeno Principe. \\nO narrador mostrou-lhe o seu desenho. \\nO Pequeno Principe disse-lhe que nao queria um elefante engolido por uma jiboia e sim um carneiro. Ele teve dificuldades para desenha-lo, pois fora desencorajado de desenhar quando era pequeno. Depois de varias tentativas, teve a ideia de desenha-lo dentro de uma caixa. \\nPara surpresa do narrador, o Pequeno aceitou o desenho. Foi deste modo que o narrador travou conhecimentos com o Pequeno Principe. \\nEle contou-lhe que viera de um planeta, do qual o narrador imaginou ser o asteroide B612, visto pelo telescopio uma unica vez, em 1909, por um astronomo turco. \\nO pequeno Planeta era do tamanho de uma casa. \\nO Pequeno Principe contou o drama que ele vivia, em seu Planeta, com o baoba, arvore que cresce muito; por este motivo, ele precisava de um carneiro para comer os baobas enquanto eram pequenos. Atraves do Pequeno Principe, o narrador aprendeu a dar valor as pequenas coisas do dia-a-dia; admirar o por-do-sol, apreciar a beleza de uma flor, contemplar as estrelas? \\nEle acreditava que o pequeno havia viajado, segurando nas penas dos passaros selvagens, que emigravam. \\nO Principe conta-lhe as suas aventuras em varios outros planetas: o primeiro era habitado por apenas um rei; o segundo, por um vaidoso; o terceiro, por um bebado; o quarto, por um homem de negocios; o quinto, um acendedor de lampiao; no sexto, um velho geografo que escrevia livros enormes, e, por ultimo, ele visitou o nosso Planeta Terra, onde encontrou uma serpente, que lhe prometeu manda-lo de volta ao seu planeta, atraves de uma picada. \\nNo oitavo dia da pane, o narrador havia bebido o ultimo gole de agua e, por este motivo, caminharam ate que encontraram um poco. Este poco era perto do local onde o Pequeno Principe teria que voltar ao seu planeta. \\nA partida dele seria no dia seguinte. \\nFalou-lhe, tambem, que a serpente havia combinado com ele de aparecer na hora exata para pica-lo. \\nO narrador ficou triste, ao saber disto, porque tomara afeicao ao Pequeno. \\nO Principe lhe disse para que nao sofresse, quando constatasse que o corpo dele estivesse inerte, afirmando que devemos saber olhar alem das simples aparencias. \\nNao havia outra forma de ele viajar, pois o seu corpo, no estado em que se encontrava, era muito pesado. \\nPrecisava da picada para que se tornasse mais leve. \\nChegado o momento do encontro com a serpente, o Pequeno Principe nao gritou. Aceitou corajosamente o seu destino. \\nTombou como uma arvore tomba. \\nE assim, voltou para o seu planeta, enfim. O narrador, dias mais tarde, conseguiu se salvar, sentindo-se consolado porque sabia que o Pequeno Principe havia voltado para o planeta dele, pois ao raiar do dia seguinte a picada, o corpo do Pequeno nao estava mais no local. \\nHoje, ao olhar as estrelas, o narrador sorri, lembrando-se do seu grande Pequeno amigo.\\n'"
      ]
     },
     "execution_count": 15,
     "metadata": {},
     "output_type": "execute_result"
    }
   ],
   "source": [
    "book.read()"
   ]
  },
  {
   "cell_type": "code",
   "execution_count": 16,
   "metadata": {},
   "outputs": [
    {
     "data": {
      "text/plain": [
       "[]"
      ]
     },
     "execution_count": 16,
     "metadata": {},
     "output_type": "execute_result"
    }
   ],
   "source": [
    "book.readlines()"
   ]
  },
  {
   "cell_type": "markdown",
   "metadata": {},
   "source": [
    "### Escrevendo no arquivo"
   ]
  },
  {
   "cell_type": "code",
   "execution_count": 20,
   "metadata": {},
   "outputs": [],
   "source": [
    "helloWorld = open('hello.txt', 'w')\n",
    "#helloWOrld = open('data/hello.txt', 'w')"
   ]
  },
  {
   "cell_type": "code",
   "execution_count": 21,
   "metadata": {},
   "outputs": [
    {
     "data": {
      "text/plain": [
       "14"
      ]
     },
     "execution_count": 21,
     "metadata": {},
     "output_type": "execute_result"
    }
   ],
   "source": [
    "helloWorld.write('Hello World! \\n')"
   ]
  },
  {
   "cell_type": "code",
   "execution_count": 22,
   "metadata": {},
   "outputs": [],
   "source": [
    "helloWorld.close()"
   ]
  },
  {
   "cell_type": "code",
   "execution_count": 23,
   "metadata": {},
   "outputs": [],
   "source": [
    "updateWorld = open('hello.txt', 'a')"
   ]
  },
  {
   "cell_type": "code",
   "execution_count": 25,
   "metadata": {},
   "outputs": [
    {
     "data": {
      "text/plain": [
       "10"
      ]
     },
     "execution_count": 25,
     "metadata": {},
     "output_type": "execute_result"
    }
   ],
   "source": [
    "updateWorld.write('Olá mundo\\n')"
   ]
  },
  {
   "cell_type": "code",
   "execution_count": 26,
   "metadata": {},
   "outputs": [],
   "source": [
    "updateWorld.close()"
   ]
  },
  {
   "cell_type": "code",
   "execution_count": 28,
   "metadata": {},
   "outputs": [],
   "source": [
    "readWorld = open('hello.txt')"
   ]
  },
  {
   "cell_type": "code",
   "execution_count": 29,
   "metadata": {},
   "outputs": [],
   "source": [
    "content = readWorld.readlines()"
   ]
  },
  {
   "cell_type": "code",
   "execution_count": 30,
   "metadata": {},
   "outputs": [
    {
     "data": {
      "text/plain": [
       "['Hello World! \\n', 'Olá mundo\\n']"
      ]
     },
     "execution_count": 30,
     "metadata": {},
     "output_type": "execute_result"
    }
   ],
   "source": [
    "content"
   ]
  },
  {
   "cell_type": "code",
   "execution_count": null,
   "metadata": {},
   "outputs": [],
   "source": []
  }
 ],
 "metadata": {
  "kernelspec": {
   "display_name": "Python 3",
   "language": "python",
   "name": "python3"
  },
  "language_info": {
   "codemirror_mode": {
    "name": "ipython",
    "version": 3
   },
   "file_extension": ".py",
   "mimetype": "text/x-python",
   "name": "python",
   "nbconvert_exporter": "python",
   "pygments_lexer": "ipython3",
   "version": "3.6.5"
  }
 },
 "nbformat": 4,
 "nbformat_minor": 2
}
