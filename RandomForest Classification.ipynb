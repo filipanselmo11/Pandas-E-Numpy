{
 "cells": [
  {
   "cell_type": "code",
   "execution_count": 1,
   "metadata": {},
   "outputs": [
    {
     "name": "stderr",
     "output_type": "stream",
     "text": [
      "/home/jailson/anaconda3/lib/python3.7/site-packages/sklearn/ensemble/weight_boosting.py:29: DeprecationWarning: numpy.core.umath_tests is an internal NumPy module and should not be imported. It will be removed in a future NumPy release.\n",
      "  from numpy.core.umath_tests import inner1d\n"
     ]
    }
   ],
   "source": [
    "import pandas as pd\n",
    "import numpy as np\n",
    "import matplotlib.pyplot as plt\n",
    "from sklearn.model_selection import GridSearchCV\n",
    "from sklearn.neural_network import MLPClassifier\n",
    "from sklearn.metrics import confusion_matrix,accuracy_score,precision_score,recall_score,f1_score\n",
    "from sklearn.model_selection import train_test_split\n",
    "from sklearn.preprocessing import StandardScaler,scale,minmax_scale\n",
    "from sklearn.decomposition import PCA\n",
    "from sklearn.feature_selection import SelectKBest\n",
    "from sklearn.feature_selection import chi2,mutual_info_classif\n",
    "from pandas.tools.plotting import scatter_matrix\n",
    "from sklearn import svm\n",
    "from sklearn.ensemble import RandomForestClassifier"
   ]
  },
  {
   "cell_type": "code",
   "execution_count": 2,
   "metadata": {},
   "outputs": [],
   "source": [
    "data = pd.read_csv('all/train.csv',delimiter=',')"
   ]
  },
  {
   "cell_type": "code",
   "execution_count": 3,
   "metadata": {},
   "outputs": [],
   "source": [
    "y = data['Classification']\n",
    "X = data.drop('Classification',axis=1)\n",
    "X = X.drop('id',axis=1)"
   ]
  },
  {
   "cell_type": "code",
   "execution_count": 4,
   "metadata": {},
   "outputs": [
    {
     "data": {
      "text/html": [
       "<div>\n",
       "<style scoped>\n",
       "    .dataframe tbody tr th:only-of-type {\n",
       "        vertical-align: middle;\n",
       "    }\n",
       "\n",
       "    .dataframe tbody tr th {\n",
       "        vertical-align: top;\n",
       "    }\n",
       "\n",
       "    .dataframe thead th {\n",
       "        text-align: right;\n",
       "    }\n",
       "</style>\n",
       "<table border=\"1\" class=\"dataframe\">\n",
       "  <thead>\n",
       "    <tr style=\"text-align: right;\">\n",
       "      <th></th>\n",
       "      <th>Age</th>\n",
       "      <th>BMI</th>\n",
       "      <th>Glucose</th>\n",
       "      <th>Insulin</th>\n",
       "      <th>HOMA</th>\n",
       "      <th>Leptin</th>\n",
       "      <th>Adiponectin</th>\n",
       "      <th>Resistin</th>\n",
       "      <th>MCP.1</th>\n",
       "    </tr>\n",
       "  </thead>\n",
       "  <tbody>\n",
       "    <tr>\n",
       "      <th>0</th>\n",
       "      <td>47</td>\n",
       "      <td>22.0300</td>\n",
       "      <td>84</td>\n",
       "      <td>2.869</td>\n",
       "      <td>0.5900</td>\n",
       "      <td>26.6500</td>\n",
       "      <td>38.0400</td>\n",
       "      <td>3.3200</td>\n",
       "      <td>191.720</td>\n",
       "    </tr>\n",
       "    <tr>\n",
       "      <th>1</th>\n",
       "      <td>75</td>\n",
       "      <td>30.4800</td>\n",
       "      <td>152</td>\n",
       "      <td>7.010</td>\n",
       "      <td>2.6283</td>\n",
       "      <td>50.5300</td>\n",
       "      <td>10.0600</td>\n",
       "      <td>11.7300</td>\n",
       "      <td>99.450</td>\n",
       "    </tr>\n",
       "    <tr>\n",
       "      <th>2</th>\n",
       "      <td>25</td>\n",
       "      <td>22.8600</td>\n",
       "      <td>82</td>\n",
       "      <td>4.090</td>\n",
       "      <td>0.8273</td>\n",
       "      <td>20.4500</td>\n",
       "      <td>23.6700</td>\n",
       "      <td>5.1400</td>\n",
       "      <td>313.730</td>\n",
       "    </tr>\n",
       "    <tr>\n",
       "      <th>3</th>\n",
       "      <td>54</td>\n",
       "      <td>24.2188</td>\n",
       "      <td>86</td>\n",
       "      <td>3.730</td>\n",
       "      <td>0.7913</td>\n",
       "      <td>8.6874</td>\n",
       "      <td>3.7052</td>\n",
       "      <td>10.3446</td>\n",
       "      <td>635.049</td>\n",
       "    </tr>\n",
       "    <tr>\n",
       "      <th>4</th>\n",
       "      <td>69</td>\n",
       "      <td>35.0927</td>\n",
       "      <td>101</td>\n",
       "      <td>5.646</td>\n",
       "      <td>1.4066</td>\n",
       "      <td>83.4821</td>\n",
       "      <td>6.7970</td>\n",
       "      <td>82.1000</td>\n",
       "      <td>263.499</td>\n",
       "    </tr>\n",
       "  </tbody>\n",
       "</table>\n",
       "</div>"
      ],
      "text/plain": [
       "   Age      BMI  Glucose  Insulin    HOMA   Leptin  Adiponectin  Resistin  \\\n",
       "0   47  22.0300       84    2.869  0.5900  26.6500      38.0400    3.3200   \n",
       "1   75  30.4800      152    7.010  2.6283  50.5300      10.0600   11.7300   \n",
       "2   25  22.8600       82    4.090  0.8273  20.4500      23.6700    5.1400   \n",
       "3   54  24.2188       86    3.730  0.7913   8.6874       3.7052   10.3446   \n",
       "4   69  35.0927      101    5.646  1.4066  83.4821       6.7970   82.1000   \n",
       "\n",
       "     MCP.1  \n",
       "0  191.720  \n",
       "1   99.450  \n",
       "2  313.730  \n",
       "3  635.049  \n",
       "4  263.499  "
      ]
     },
     "execution_count": 4,
     "metadata": {},
     "output_type": "execute_result"
    }
   ],
   "source": [
    "X.head()"
   ]
  },
  {
   "cell_type": "markdown",
   "metadata": {},
   "source": [
    "# Solução 1"
   ]
  },
  {
   "cell_type": "code",
   "execution_count": 5,
   "metadata": {},
   "outputs": [],
   "source": [
    "x_train,x_test,y_train,y_test = train_test_split(X,y,test_size=0.1,random_state=42)"
   ]
  },
  {
   "cell_type": "code",
   "execution_count": 6,
   "metadata": {},
   "outputs": [],
   "source": [
    "clf_rf = RandomForestClassifier(random_state=43)\n",
    "clf_rf = clf_rf.fit(x_train,y_train)"
   ]
  },
  {
   "cell_type": "code",
   "execution_count": 7,
   "metadata": {},
   "outputs": [],
   "source": [
    "ac = accuracy_score(y_test,clf_rf.predict(x_test))\n",
    "f = f1_score(y_test,clf_rf.predict(x_test))\n",
    "pr = precision_score(y_test, clf_rf.predict(x_test), average='macro')"
   ]
  },
  {
   "cell_type": "code",
   "execution_count": 8,
   "metadata": {},
   "outputs": [
    {
     "name": "stdout",
     "output_type": "stream",
     "text": [
      "Accurácia é:  0.7\n",
      "F1-Score é: 0.6666666666666665\n",
      "Precisão é:  0.7083333333333333\n"
     ]
    }
   ],
   "source": [
    "print('Accurácia é: ',ac)\n",
    "print('F1-Score é:',f)\n",
    "print('Precisão é: ',pr)"
   ]
  },
  {
   "cell_type": "markdown",
   "metadata": {},
   "source": [
    "# Solução 2"
   ]
  },
  {
   "cell_type": "code",
   "execution_count": 9,
   "metadata": {},
   "outputs": [],
   "source": [
    "# 5 melhores atributos\n",
    "select_feature = SelectKBest(chi2, k=5).fit(x_train, y_train)"
   ]
  },
  {
   "cell_type": "code",
   "execution_count": 10,
   "metadata": {},
   "outputs": [
    {
     "name": "stdout",
     "output_type": "stream",
     "text": [
      "Score Lista: [2.11739278e-02 2.70182175e+00 4.28986176e+01 4.91577422e+01\n",
      " 2.43315875e+01 8.48884666e-01 2.94505062e+00 1.36325063e+01\n",
      " 5.82138642e+00]\n",
      "Caracteristicas lista: Index(['Age', 'BMI', 'Glucose', 'Insulin', 'HOMA', 'Leptin', 'Adiponectin',\n",
      "       'Resistin', 'MCP.1'],\n",
      "      dtype='object')\n"
     ]
    }
   ],
   "source": [
    "print('Score Lista:',select_feature.scores_)\n",
    "print('Caracteristicas lista:',x_train.columns)"
   ]
  },
  {
   "cell_type": "code",
   "execution_count": 11,
   "metadata": {},
   "outputs": [],
   "source": [
    "x_train_2 = select_feature.transform(x_train)\n",
    "x_test_2 = select_feature.transform(x_test)\n",
    "\n",
    "clf_rf_2 = RandomForestClassifier()\n",
    "clf_rf_2 = clf_rf_2.fit(x_train_2,y_train)\n",
    "\n",
    "ac_2 = accuracy_score(y_test,clf_rf_2.predict(x_test_2))\n",
    "f_2 = f1_score(y_test,clf_rf_2.predict(x_test_2))\n",
    "pr_2 = precision_score(y_test, clf_rf_2.predict(x_test_2), average='macro')"
   ]
  },
  {
   "cell_type": "code",
   "execution_count": 12,
   "metadata": {},
   "outputs": [
    {
     "name": "stdout",
     "output_type": "stream",
     "text": [
      "Accurácia é:  0.6\n",
      "F1-Score é: 0.6\n",
      "Precisão é:  0.6\n"
     ]
    }
   ],
   "source": [
    "print('Accurácia é: ',ac_2)\n",
    "print('F1-Score é:',f_2)\n",
    "print('Precisão é: ',pr_2)"
   ]
  },
  {
   "cell_type": "markdown",
   "metadata": {},
   "source": [
    "# Solução 3"
   ]
  },
  {
   "cell_type": "code",
   "execution_count": 14,
   "metadata": {},
   "outputs": [],
   "source": [
    "from sklearn.feature_selection import RFE\n",
    "\n",
    "#clf_rf_3 = MLPClassifier(solver='lbfgs',activation='relu',hidden_layer_sizes=(8,4))      \n",
    "\n",
    "clf_rf_3 = RandomForestClassifier()\n",
    "\n",
    "rfe = RFE(estimator=clf_rf_3, n_features_to_select=5, step=1)\n",
    "\n",
    "rfe = rfe.fit(x_train, y_train)"
   ]
  },
  {
   "cell_type": "code",
   "execution_count": 15,
   "metadata": {},
   "outputs": [
    {
     "data": {
      "text/plain": [
       "Index(['Age', 'BMI', 'Glucose', 'HOMA', 'Resistin'], dtype='object')"
      ]
     },
     "execution_count": 15,
     "metadata": {},
     "output_type": "execute_result"
    }
   ],
   "source": [
    "x_train.columns[rfe.support_]"
   ]
  },
  {
   "cell_type": "code",
   "execution_count": 18,
   "metadata": {},
   "outputs": [
    {
     "data": {
      "text/plain": [
       "array([1, 2, 2, 2, 2, 1, 2, 2, 1, 1])"
      ]
     },
     "execution_count": 18,
     "metadata": {},
     "output_type": "execute_result"
    }
   ],
   "source": [
    "rfe.predict(x_test)"
   ]
  },
  {
   "cell_type": "code",
   "execution_count": null,
   "metadata": {},
   "outputs": [],
   "source": []
  },
  {
   "cell_type": "code",
   "execution_count": 19,
   "metadata": {},
   "outputs": [],
   "source": [
    "ac_3 = accuracy_score(y_test,rfe.predict(x_test))\n",
    "\n",
    "f_3 = f1_score(y_test,rfe.predict(x_test))\n",
    "\n",
    "pr_3 = precision_score(y_test, rfe.predict(x_test), average='macro')"
   ]
  },
  {
   "cell_type": "code",
   "execution_count": 20,
   "metadata": {},
   "outputs": [
    {
     "name": "stdout",
     "output_type": "stream",
     "text": [
      "Accurácia é:  0.9\n",
      "F1-Score é: 0.888888888888889\n",
      "Precisão é:  0.9166666666666667\n"
     ]
    }
   ],
   "source": [
    "print('Accurácia é: ',ac_3)\n",
    "print('F1-Score é:',f_3)\n",
    "print('Precisão é: ',pr_3)"
   ]
  },
  {
   "cell_type": "markdown",
   "metadata": {},
   "source": [
    "# Teste com o Melhor Classificador"
   ]
  },
  {
   "cell_type": "code",
   "execution_count": 33,
   "metadata": {},
   "outputs": [],
   "source": [
    "data_test = pd.read_csv('all/test.csv',delimiter=',')"
   ]
  },
  {
   "cell_type": "code",
   "execution_count": 34,
   "metadata": {},
   "outputs": [
    {
     "data": {
      "text/html": [
       "<div>\n",
       "<style scoped>\n",
       "    .dataframe tbody tr th:only-of-type {\n",
       "        vertical-align: middle;\n",
       "    }\n",
       "\n",
       "    .dataframe tbody tr th {\n",
       "        vertical-align: top;\n",
       "    }\n",
       "\n",
       "    .dataframe thead th {\n",
       "        text-align: right;\n",
       "    }\n",
       "</style>\n",
       "<table border=\"1\" class=\"dataframe\">\n",
       "  <thead>\n",
       "    <tr style=\"text-align: right;\">\n",
       "      <th></th>\n",
       "      <th>id</th>\n",
       "      <th>Age</th>\n",
       "      <th>BMI</th>\n",
       "      <th>Glucose</th>\n",
       "      <th>Insulin</th>\n",
       "      <th>HOMA</th>\n",
       "      <th>Leptin</th>\n",
       "      <th>Adiponectin</th>\n",
       "      <th>Resistin</th>\n",
       "      <th>MCP.1</th>\n",
       "    </tr>\n",
       "  </thead>\n",
       "  <tbody>\n",
       "    <tr>\n",
       "      <th>0</th>\n",
       "      <td>100</td>\n",
       "      <td>62</td>\n",
       "      <td>22.6562</td>\n",
       "      <td>92</td>\n",
       "      <td>3.482</td>\n",
       "      <td>0.7902</td>\n",
       "      <td>9.8648</td>\n",
       "      <td>11.2362</td>\n",
       "      <td>10.6955</td>\n",
       "      <td>703.973</td>\n",
       "    </tr>\n",
       "    <tr>\n",
       "      <th>1</th>\n",
       "      <td>78</td>\n",
       "      <td>29</td>\n",
       "      <td>23.0100</td>\n",
       "      <td>82</td>\n",
       "      <td>5.663</td>\n",
       "      <td>1.1454</td>\n",
       "      <td>35.5900</td>\n",
       "      <td>26.7200</td>\n",
       "      <td>4.5800</td>\n",
       "      <td>174.800</td>\n",
       "    </tr>\n",
       "    <tr>\n",
       "      <th>2</th>\n",
       "      <td>77</td>\n",
       "      <td>75</td>\n",
       "      <td>25.7000</td>\n",
       "      <td>94</td>\n",
       "      <td>8.079</td>\n",
       "      <td>1.8733</td>\n",
       "      <td>65.9260</td>\n",
       "      <td>3.7412</td>\n",
       "      <td>4.4968</td>\n",
       "      <td>206.802</td>\n",
       "    </tr>\n",
       "    <tr>\n",
       "      <th>3</th>\n",
       "      <td>113</td>\n",
       "      <td>44</td>\n",
       "      <td>27.8876</td>\n",
       "      <td>99</td>\n",
       "      <td>9.208</td>\n",
       "      <td>2.2486</td>\n",
       "      <td>12.6757</td>\n",
       "      <td>5.4782</td>\n",
       "      <td>23.0331</td>\n",
       "      <td>407.206</td>\n",
       "    </tr>\n",
       "    <tr>\n",
       "      <th>4</th>\n",
       "      <td>86</td>\n",
       "      <td>75</td>\n",
       "      <td>23.0000</td>\n",
       "      <td>83</td>\n",
       "      <td>4.952</td>\n",
       "      <td>1.0138</td>\n",
       "      <td>17.1270</td>\n",
       "      <td>11.5790</td>\n",
       "      <td>7.0913</td>\n",
       "      <td>318.302</td>\n",
       "    </tr>\n",
       "  </tbody>\n",
       "</table>\n",
       "</div>"
      ],
      "text/plain": [
       "    id  Age      BMI  Glucose  Insulin    HOMA   Leptin  Adiponectin  \\\n",
       "0  100   62  22.6562       92    3.482  0.7902   9.8648      11.2362   \n",
       "1   78   29  23.0100       82    5.663  1.1454  35.5900      26.7200   \n",
       "2   77   75  25.7000       94    8.079  1.8733  65.9260       3.7412   \n",
       "3  113   44  27.8876       99    9.208  2.2486  12.6757       5.4782   \n",
       "4   86   75  23.0000       83    4.952  1.0138  17.1270      11.5790   \n",
       "\n",
       "   Resistin    MCP.1  \n",
       "0   10.6955  703.973  \n",
       "1    4.5800  174.800  \n",
       "2    4.4968  206.802  \n",
       "3   23.0331  407.206  \n",
       "4    7.0913  318.302  "
      ]
     },
     "execution_count": 34,
     "metadata": {},
     "output_type": "execute_result"
    }
   ],
   "source": [
    "data_test.head()"
   ]
  },
  {
   "cell_type": "code",
   "execution_count": 35,
   "metadata": {},
   "outputs": [],
   "source": [
    "data_test = data_test.drop('id',axis=1)"
   ]
  },
  {
   "cell_type": "code",
   "execution_count": 36,
   "metadata": {},
   "outputs": [
    {
     "data": {
      "text/html": [
       "<div>\n",
       "<style scoped>\n",
       "    .dataframe tbody tr th:only-of-type {\n",
       "        vertical-align: middle;\n",
       "    }\n",
       "\n",
       "    .dataframe tbody tr th {\n",
       "        vertical-align: top;\n",
       "    }\n",
       "\n",
       "    .dataframe thead th {\n",
       "        text-align: right;\n",
       "    }\n",
       "</style>\n",
       "<table border=\"1\" class=\"dataframe\">\n",
       "  <thead>\n",
       "    <tr style=\"text-align: right;\">\n",
       "      <th></th>\n",
       "      <th>Age</th>\n",
       "      <th>BMI</th>\n",
       "      <th>Glucose</th>\n",
       "      <th>Insulin</th>\n",
       "      <th>HOMA</th>\n",
       "      <th>Leptin</th>\n",
       "      <th>Adiponectin</th>\n",
       "      <th>Resistin</th>\n",
       "      <th>MCP.1</th>\n",
       "    </tr>\n",
       "  </thead>\n",
       "  <tbody>\n",
       "    <tr>\n",
       "      <th>0</th>\n",
       "      <td>62</td>\n",
       "      <td>22.6562</td>\n",
       "      <td>92</td>\n",
       "      <td>3.482</td>\n",
       "      <td>0.7902</td>\n",
       "      <td>9.8648</td>\n",
       "      <td>11.2362</td>\n",
       "      <td>10.6955</td>\n",
       "      <td>703.973</td>\n",
       "    </tr>\n",
       "    <tr>\n",
       "      <th>1</th>\n",
       "      <td>29</td>\n",
       "      <td>23.0100</td>\n",
       "      <td>82</td>\n",
       "      <td>5.663</td>\n",
       "      <td>1.1454</td>\n",
       "      <td>35.5900</td>\n",
       "      <td>26.7200</td>\n",
       "      <td>4.5800</td>\n",
       "      <td>174.800</td>\n",
       "    </tr>\n",
       "    <tr>\n",
       "      <th>2</th>\n",
       "      <td>75</td>\n",
       "      <td>25.7000</td>\n",
       "      <td>94</td>\n",
       "      <td>8.079</td>\n",
       "      <td>1.8733</td>\n",
       "      <td>65.9260</td>\n",
       "      <td>3.7412</td>\n",
       "      <td>4.4968</td>\n",
       "      <td>206.802</td>\n",
       "    </tr>\n",
       "    <tr>\n",
       "      <th>3</th>\n",
       "      <td>44</td>\n",
       "      <td>27.8876</td>\n",
       "      <td>99</td>\n",
       "      <td>9.208</td>\n",
       "      <td>2.2486</td>\n",
       "      <td>12.6757</td>\n",
       "      <td>5.4782</td>\n",
       "      <td>23.0331</td>\n",
       "      <td>407.206</td>\n",
       "    </tr>\n",
       "    <tr>\n",
       "      <th>4</th>\n",
       "      <td>75</td>\n",
       "      <td>23.0000</td>\n",
       "      <td>83</td>\n",
       "      <td>4.952</td>\n",
       "      <td>1.0138</td>\n",
       "      <td>17.1270</td>\n",
       "      <td>11.5790</td>\n",
       "      <td>7.0913</td>\n",
       "      <td>318.302</td>\n",
       "    </tr>\n",
       "  </tbody>\n",
       "</table>\n",
       "</div>"
      ],
      "text/plain": [
       "   Age      BMI  Glucose  Insulin    HOMA   Leptin  Adiponectin  Resistin  \\\n",
       "0   62  22.6562       92    3.482  0.7902   9.8648      11.2362   10.6955   \n",
       "1   29  23.0100       82    5.663  1.1454  35.5900      26.7200    4.5800   \n",
       "2   75  25.7000       94    8.079  1.8733  65.9260       3.7412    4.4968   \n",
       "3   44  27.8876       99    9.208  2.2486  12.6757       5.4782   23.0331   \n",
       "4   75  23.0000       83    4.952  1.0138  17.1270      11.5790    7.0913   \n",
       "\n",
       "     MCP.1  \n",
       "0  703.973  \n",
       "1  174.800  \n",
       "2  206.802  \n",
       "3  407.206  \n",
       "4  318.302  "
      ]
     },
     "execution_count": 36,
     "metadata": {},
     "output_type": "execute_result"
    }
   ],
   "source": [
    "data_test.head()"
   ]
  },
  {
   "cell_type": "code",
   "execution_count": 37,
   "metadata": {},
   "outputs": [
    {
     "data": {
      "text/plain": [
       "array([2, 1, 1, 2, 1, 2, 2, 2, 2, 2, 1, 2, 2, 2, 2, 2, 2, 2, 2, 1, 2, 2,\n",
       "       1, 1])"
      ]
     },
     "execution_count": 37,
     "metadata": {},
     "output_type": "execute_result"
    }
   ],
   "source": [
    "rfe.predict(data_test)"
   ]
  },
  {
   "cell_type": "code",
   "execution_count": 38,
   "metadata": {},
   "outputs": [],
   "source": [
    "out = rfe.predict(data_test)"
   ]
  },
  {
   "cell_type": "code",
   "execution_count": 39,
   "metadata": {},
   "outputs": [],
   "source": [
    "out = pd.DataFrame(out,columns=['Classificacion'])"
   ]
  },
  {
   "cell_type": "code",
   "execution_count": 40,
   "metadata": {},
   "outputs": [],
   "source": [
    "out.to_csv('saida.csv',index=False)"
   ]
  },
  {
   "cell_type": "code",
   "execution_count": null,
   "metadata": {},
   "outputs": [],
   "source": []
  }
 ],
 "metadata": {
  "kernelspec": {
   "display_name": "Python 3",
   "language": "python",
   "name": "python3"
  },
  "language_info": {
   "codemirror_mode": {
    "name": "ipython",
    "version": 3
   },
   "file_extension": ".py",
   "mimetype": "text/x-python",
   "name": "python",
   "nbconvert_exporter": "python",
   "pygments_lexer": "ipython3",
   "version": "3.6.5"
  }
 },
 "nbformat": 4,
 "nbformat_minor": 2
}
